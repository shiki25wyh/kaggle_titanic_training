{
 "cells": [
  {
   "cell_type": "code",
   "execution_count": 1,
   "id": "56a0c575",
   "metadata": {
    "_cell_guid": "b1076dfc-b9ad-4769-8c92-a6c4dae69d19",
    "_uuid": "8f2839f25d086af736a60e9eeb907d3b93b6e0e5",
    "execution": {
     "iopub.execute_input": "2022-01-15T12:22:20.139256Z",
     "iopub.status.busy": "2022-01-15T12:22:20.137429Z",
     "iopub.status.idle": "2022-01-15T12:22:21.248100Z",
     "shell.execute_reply": "2022-01-15T12:22:21.248908Z",
     "shell.execute_reply.started": "2022-01-15T12:01:15.656625Z"
    },
    "papermill": {
     "duration": 1.166967,
     "end_time": "2022-01-15T12:22:21.249218",
     "exception": false,
     "start_time": "2022-01-15T12:22:20.082251",
     "status": "completed"
    },
    "tags": []
   },
   "outputs": [
    {
     "name": "stdout",
     "output_type": "stream",
     "text": [
      "/kaggle/input/titanic/train.csv\n",
      "/kaggle/input/titanic/test.csv\n",
      "/kaggle/input/titanic/gender_submission.csv\n"
     ]
    }
   ],
   "source": [
    "# This Python 3 environment comes with many helpful analytics libraries installed\n",
    "# It is defined by the kaggle/python Docker image: https://github.com/kaggle/docker-python\n",
    "# For example, here's several helpful packages to load\n",
    "%matplotlib inline\n",
    "import numpy as np # linear algebra\n",
    "import pandas as pd # data processing, CSV file I/O (e.g. pd.read_csv)\n",
    "import matplotlib.pyplot as plt\n",
    "import seaborn as sns\n",
    "sns.set(style=\"white\", palette=\"muted\", color_codes=True)\n",
    "\n",
    "# Input data files are available in the read-only \"../input/\" directory\n",
    "# For example, running this (by clicking run or pressing Shift+Enter) will list all files under the input directory\n",
    "\n",
    "import os\n",
    "for dirname, _, filenames in os.walk('/kaggle/input'):\n",
    "    for filename in filenames:\n",
    "        print(os.path.join(dirname, filename))\n",
    "\n",
    "# You can write up to 20GB to the current directory (/kaggle/working/) that gets preserved as output when you create a version using \"Save & Run All\" \n",
    "# You can also write temporary files to /kaggle/temp/, but they won't be saved outside of the current session"
   ]
  },
  {
   "cell_type": "code",
   "execution_count": 2,
   "id": "8519b317",
   "metadata": {
    "execution": {
     "iopub.execute_input": "2022-01-15T12:22:21.353506Z",
     "iopub.status.busy": "2022-01-15T12:22:21.352861Z",
     "iopub.status.idle": "2022-01-15T12:22:21.398507Z",
     "shell.execute_reply": "2022-01-15T12:22:21.399051Z",
     "shell.execute_reply.started": "2022-01-15T12:01:15.774239Z"
    },
    "papermill": {
     "duration": 0.100344,
     "end_time": "2022-01-15T12:22:21.399221",
     "exception": false,
     "start_time": "2022-01-15T12:22:21.298877",
     "status": "completed"
    },
    "tags": []
   },
   "outputs": [
    {
     "data": {
      "text/html": [
       "<div>\n",
       "<style scoped>\n",
       "    .dataframe tbody tr th:only-of-type {\n",
       "        vertical-align: middle;\n",
       "    }\n",
       "\n",
       "    .dataframe tbody tr th {\n",
       "        vertical-align: top;\n",
       "    }\n",
       "\n",
       "    .dataframe thead th {\n",
       "        text-align: right;\n",
       "    }\n",
       "</style>\n",
       "<table border=\"1\" class=\"dataframe\">\n",
       "  <thead>\n",
       "    <tr style=\"text-align: right;\">\n",
       "      <th></th>\n",
       "      <th>PassengerId</th>\n",
       "      <th>Survived</th>\n",
       "      <th>Pclass</th>\n",
       "      <th>Name</th>\n",
       "      <th>Sex</th>\n",
       "      <th>Age</th>\n",
       "      <th>SibSp</th>\n",
       "      <th>Parch</th>\n",
       "      <th>Ticket</th>\n",
       "      <th>Fare</th>\n",
       "      <th>Cabin</th>\n",
       "      <th>Embarked</th>\n",
       "    </tr>\n",
       "  </thead>\n",
       "  <tbody>\n",
       "    <tr>\n",
       "      <th>0</th>\n",
       "      <td>1</td>\n",
       "      <td>0</td>\n",
       "      <td>3</td>\n",
       "      <td>Braund, Mr. Owen Harris</td>\n",
       "      <td>male</td>\n",
       "      <td>22.0</td>\n",
       "      <td>1</td>\n",
       "      <td>0</td>\n",
       "      <td>A/5 21171</td>\n",
       "      <td>7.2500</td>\n",
       "      <td>NaN</td>\n",
       "      <td>S</td>\n",
       "    </tr>\n",
       "    <tr>\n",
       "      <th>1</th>\n",
       "      <td>2</td>\n",
       "      <td>1</td>\n",
       "      <td>1</td>\n",
       "      <td>Cumings, Mrs. John Bradley (Florence Briggs Th...</td>\n",
       "      <td>female</td>\n",
       "      <td>38.0</td>\n",
       "      <td>1</td>\n",
       "      <td>0</td>\n",
       "      <td>PC 17599</td>\n",
       "      <td>71.2833</td>\n",
       "      <td>C85</td>\n",
       "      <td>C</td>\n",
       "    </tr>\n",
       "    <tr>\n",
       "      <th>2</th>\n",
       "      <td>3</td>\n",
       "      <td>1</td>\n",
       "      <td>3</td>\n",
       "      <td>Heikkinen, Miss. Laina</td>\n",
       "      <td>female</td>\n",
       "      <td>26.0</td>\n",
       "      <td>0</td>\n",
       "      <td>0</td>\n",
       "      <td>STON/O2. 3101282</td>\n",
       "      <td>7.9250</td>\n",
       "      <td>NaN</td>\n",
       "      <td>S</td>\n",
       "    </tr>\n",
       "    <tr>\n",
       "      <th>3</th>\n",
       "      <td>4</td>\n",
       "      <td>1</td>\n",
       "      <td>1</td>\n",
       "      <td>Futrelle, Mrs. Jacques Heath (Lily May Peel)</td>\n",
       "      <td>female</td>\n",
       "      <td>35.0</td>\n",
       "      <td>1</td>\n",
       "      <td>0</td>\n",
       "      <td>113803</td>\n",
       "      <td>53.1000</td>\n",
       "      <td>C123</td>\n",
       "      <td>S</td>\n",
       "    </tr>\n",
       "    <tr>\n",
       "      <th>4</th>\n",
       "      <td>5</td>\n",
       "      <td>0</td>\n",
       "      <td>3</td>\n",
       "      <td>Allen, Mr. William Henry</td>\n",
       "      <td>male</td>\n",
       "      <td>35.0</td>\n",
       "      <td>0</td>\n",
       "      <td>0</td>\n",
       "      <td>373450</td>\n",
       "      <td>8.0500</td>\n",
       "      <td>NaN</td>\n",
       "      <td>S</td>\n",
       "    </tr>\n",
       "  </tbody>\n",
       "</table>\n",
       "</div>"
      ],
      "text/plain": [
       "   PassengerId  Survived  Pclass  \\\n",
       "0            1         0       3   \n",
       "1            2         1       1   \n",
       "2            3         1       3   \n",
       "3            4         1       1   \n",
       "4            5         0       3   \n",
       "\n",
       "                                                Name     Sex   Age  SibSp  \\\n",
       "0                            Braund, Mr. Owen Harris    male  22.0      1   \n",
       "1  Cumings, Mrs. John Bradley (Florence Briggs Th...  female  38.0      1   \n",
       "2                             Heikkinen, Miss. Laina  female  26.0      0   \n",
       "3       Futrelle, Mrs. Jacques Heath (Lily May Peel)  female  35.0      1   \n",
       "4                           Allen, Mr. William Henry    male  35.0      0   \n",
       "\n",
       "   Parch            Ticket     Fare Cabin Embarked  \n",
       "0      0         A/5 21171   7.2500   NaN        S  \n",
       "1      0          PC 17599  71.2833   C85        C  \n",
       "2      0  STON/O2. 3101282   7.9250   NaN        S  \n",
       "3      0            113803  53.1000  C123        S  \n",
       "4      0            373450   8.0500   NaN        S  "
      ]
     },
     "execution_count": 2,
     "metadata": {},
     "output_type": "execute_result"
    }
   ],
   "source": [
    "train_data = pd.read_csv(\"/kaggle/input/titanic/train.csv\")\n",
    "train_data.head()"
   ]
  },
  {
   "cell_type": "code",
   "execution_count": 3,
   "id": "d39df27a",
   "metadata": {
    "execution": {
     "iopub.execute_input": "2022-01-15T12:22:21.501783Z",
     "iopub.status.busy": "2022-01-15T12:22:21.501059Z",
     "iopub.status.idle": "2022-01-15T12:22:21.527198Z",
     "shell.execute_reply": "2022-01-15T12:22:21.526533Z",
     "shell.execute_reply.started": "2022-01-15T12:01:15.864574Z"
    },
    "papermill": {
     "duration": 0.078801,
     "end_time": "2022-01-15T12:22:21.527338",
     "exception": false,
     "start_time": "2022-01-15T12:22:21.448537",
     "status": "completed"
    },
    "tags": []
   },
   "outputs": [
    {
     "data": {
      "text/html": [
       "<div>\n",
       "<style scoped>\n",
       "    .dataframe tbody tr th:only-of-type {\n",
       "        vertical-align: middle;\n",
       "    }\n",
       "\n",
       "    .dataframe tbody tr th {\n",
       "        vertical-align: top;\n",
       "    }\n",
       "\n",
       "    .dataframe thead th {\n",
       "        text-align: right;\n",
       "    }\n",
       "</style>\n",
       "<table border=\"1\" class=\"dataframe\">\n",
       "  <thead>\n",
       "    <tr style=\"text-align: right;\">\n",
       "      <th></th>\n",
       "      <th>PassengerId</th>\n",
       "      <th>Pclass</th>\n",
       "      <th>Name</th>\n",
       "      <th>Sex</th>\n",
       "      <th>Age</th>\n",
       "      <th>SibSp</th>\n",
       "      <th>Parch</th>\n",
       "      <th>Ticket</th>\n",
       "      <th>Fare</th>\n",
       "      <th>Cabin</th>\n",
       "      <th>Embarked</th>\n",
       "    </tr>\n",
       "  </thead>\n",
       "  <tbody>\n",
       "    <tr>\n",
       "      <th>0</th>\n",
       "      <td>892</td>\n",
       "      <td>3</td>\n",
       "      <td>Kelly, Mr. James</td>\n",
       "      <td>male</td>\n",
       "      <td>34.5</td>\n",
       "      <td>0</td>\n",
       "      <td>0</td>\n",
       "      <td>330911</td>\n",
       "      <td>7.8292</td>\n",
       "      <td>NaN</td>\n",
       "      <td>Q</td>\n",
       "    </tr>\n",
       "    <tr>\n",
       "      <th>1</th>\n",
       "      <td>893</td>\n",
       "      <td>3</td>\n",
       "      <td>Wilkes, Mrs. James (Ellen Needs)</td>\n",
       "      <td>female</td>\n",
       "      <td>47.0</td>\n",
       "      <td>1</td>\n",
       "      <td>0</td>\n",
       "      <td>363272</td>\n",
       "      <td>7.0000</td>\n",
       "      <td>NaN</td>\n",
       "      <td>S</td>\n",
       "    </tr>\n",
       "    <tr>\n",
       "      <th>2</th>\n",
       "      <td>894</td>\n",
       "      <td>2</td>\n",
       "      <td>Myles, Mr. Thomas Francis</td>\n",
       "      <td>male</td>\n",
       "      <td>62.0</td>\n",
       "      <td>0</td>\n",
       "      <td>0</td>\n",
       "      <td>240276</td>\n",
       "      <td>9.6875</td>\n",
       "      <td>NaN</td>\n",
       "      <td>Q</td>\n",
       "    </tr>\n",
       "    <tr>\n",
       "      <th>3</th>\n",
       "      <td>895</td>\n",
       "      <td>3</td>\n",
       "      <td>Wirz, Mr. Albert</td>\n",
       "      <td>male</td>\n",
       "      <td>27.0</td>\n",
       "      <td>0</td>\n",
       "      <td>0</td>\n",
       "      <td>315154</td>\n",
       "      <td>8.6625</td>\n",
       "      <td>NaN</td>\n",
       "      <td>S</td>\n",
       "    </tr>\n",
       "    <tr>\n",
       "      <th>4</th>\n",
       "      <td>896</td>\n",
       "      <td>3</td>\n",
       "      <td>Hirvonen, Mrs. Alexander (Helga E Lindqvist)</td>\n",
       "      <td>female</td>\n",
       "      <td>22.0</td>\n",
       "      <td>1</td>\n",
       "      <td>1</td>\n",
       "      <td>3101298</td>\n",
       "      <td>12.2875</td>\n",
       "      <td>NaN</td>\n",
       "      <td>S</td>\n",
       "    </tr>\n",
       "  </tbody>\n",
       "</table>\n",
       "</div>"
      ],
      "text/plain": [
       "   PassengerId  Pclass                                          Name     Sex  \\\n",
       "0          892       3                              Kelly, Mr. James    male   \n",
       "1          893       3              Wilkes, Mrs. James (Ellen Needs)  female   \n",
       "2          894       2                     Myles, Mr. Thomas Francis    male   \n",
       "3          895       3                              Wirz, Mr. Albert    male   \n",
       "4          896       3  Hirvonen, Mrs. Alexander (Helga E Lindqvist)  female   \n",
       "\n",
       "    Age  SibSp  Parch   Ticket     Fare Cabin Embarked  \n",
       "0  34.5      0      0   330911   7.8292   NaN        Q  \n",
       "1  47.0      1      0   363272   7.0000   NaN        S  \n",
       "2  62.0      0      0   240276   9.6875   NaN        Q  \n",
       "3  27.0      0      0   315154   8.6625   NaN        S  \n",
       "4  22.0      1      1  3101298  12.2875   NaN        S  "
      ]
     },
     "execution_count": 3,
     "metadata": {},
     "output_type": "execute_result"
    }
   ],
   "source": [
    "test_data = pd.read_csv(\"/kaggle/input/titanic/test.csv\")\n",
    "test_data.head()"
   ]
  },
  {
   "cell_type": "code",
   "execution_count": 4,
   "id": "4feae2a0",
   "metadata": {
    "execution": {
     "iopub.execute_input": "2022-01-15T12:22:21.631763Z",
     "iopub.status.busy": "2022-01-15T12:22:21.630743Z",
     "iopub.status.idle": "2022-01-15T12:22:21.636410Z",
     "shell.execute_reply": "2022-01-15T12:22:21.636925Z",
     "shell.execute_reply.started": "2022-01-15T12:01:15.883816Z"
    },
    "papermill": {
     "duration": 0.059408,
     "end_time": "2022-01-15T12:22:21.637104",
     "exception": false,
     "start_time": "2022-01-15T12:22:21.577696",
     "status": "completed"
    },
    "tags": []
   },
   "outputs": [
    {
     "name": "stdout",
     "output_type": "stream",
     "text": [
      "train_data: (891, 12)\n",
      "test_data: (418, 11)\n"
     ]
    }
   ],
   "source": [
    "print(\"train_data:\", train_data.shape)\n",
    "print(\"test_data:\",test_data.shape)"
   ]
  },
  {
   "cell_type": "markdown",
   "id": "321e6804",
   "metadata": {
    "papermill": {
     "duration": 0.049936,
     "end_time": "2022-01-15T12:22:21.736834",
     "exception": false,
     "start_time": "2022-01-15T12:22:21.686898",
     "status": "completed"
    },
    "tags": []
   },
   "source": [
    "# ***Train and Test data's info.***"
   ]
  },
  {
   "cell_type": "code",
   "execution_count": 5,
   "id": "3698c2aa",
   "metadata": {
    "execution": {
     "iopub.execute_input": "2022-01-15T12:22:21.842197Z",
     "iopub.status.busy": "2022-01-15T12:22:21.841544Z",
     "iopub.status.idle": "2022-01-15T12:22:21.855710Z",
     "shell.execute_reply": "2022-01-15T12:22:21.855150Z",
     "shell.execute_reply.started": "2022-01-15T12:01:15.890147Z"
    },
    "papermill": {
     "duration": 0.068173,
     "end_time": "2022-01-15T12:22:21.855869",
     "exception": false,
     "start_time": "2022-01-15T12:22:21.787696",
     "status": "completed"
    },
    "tags": []
   },
   "outputs": [],
   "source": [
    "full_data=train_data.append(test_data,ignore_index=True)"
   ]
  },
  {
   "cell_type": "code",
   "execution_count": 6,
   "id": "0523a05e",
   "metadata": {
    "execution": {
     "iopub.execute_input": "2022-01-15T12:22:21.967923Z",
     "iopub.status.busy": "2022-01-15T12:22:21.967111Z",
     "iopub.status.idle": "2022-01-15T12:22:22.000433Z",
     "shell.execute_reply": "2022-01-15T12:22:22.000959Z",
     "shell.execute_reply.started": "2022-01-15T12:01:15.957738Z"
    },
    "papermill": {
     "duration": 0.094457,
     "end_time": "2022-01-15T12:22:22.001133",
     "exception": false,
     "start_time": "2022-01-15T12:22:21.906676",
     "status": "completed"
    },
    "tags": []
   },
   "outputs": [
    {
     "data": {
      "text/html": [
       "<div>\n",
       "<style scoped>\n",
       "    .dataframe tbody tr th:only-of-type {\n",
       "        vertical-align: middle;\n",
       "    }\n",
       "\n",
       "    .dataframe tbody tr th {\n",
       "        vertical-align: top;\n",
       "    }\n",
       "\n",
       "    .dataframe thead th {\n",
       "        text-align: right;\n",
       "    }\n",
       "</style>\n",
       "<table border=\"1\" class=\"dataframe\">\n",
       "  <thead>\n",
       "    <tr style=\"text-align: right;\">\n",
       "      <th></th>\n",
       "      <th>PassengerId</th>\n",
       "      <th>Survived</th>\n",
       "      <th>Pclass</th>\n",
       "      <th>Age</th>\n",
       "      <th>SibSp</th>\n",
       "      <th>Parch</th>\n",
       "      <th>Fare</th>\n",
       "    </tr>\n",
       "  </thead>\n",
       "  <tbody>\n",
       "    <tr>\n",
       "      <th>count</th>\n",
       "      <td>891.000000</td>\n",
       "      <td>891.000000</td>\n",
       "      <td>891.000000</td>\n",
       "      <td>714.000000</td>\n",
       "      <td>891.000000</td>\n",
       "      <td>891.000000</td>\n",
       "      <td>891.000000</td>\n",
       "    </tr>\n",
       "    <tr>\n",
       "      <th>mean</th>\n",
       "      <td>446.000000</td>\n",
       "      <td>0.383838</td>\n",
       "      <td>2.308642</td>\n",
       "      <td>29.699118</td>\n",
       "      <td>0.523008</td>\n",
       "      <td>0.381594</td>\n",
       "      <td>32.204208</td>\n",
       "    </tr>\n",
       "    <tr>\n",
       "      <th>std</th>\n",
       "      <td>257.353842</td>\n",
       "      <td>0.486592</td>\n",
       "      <td>0.836071</td>\n",
       "      <td>14.526497</td>\n",
       "      <td>1.102743</td>\n",
       "      <td>0.806057</td>\n",
       "      <td>49.693429</td>\n",
       "    </tr>\n",
       "    <tr>\n",
       "      <th>min</th>\n",
       "      <td>1.000000</td>\n",
       "      <td>0.000000</td>\n",
       "      <td>1.000000</td>\n",
       "      <td>0.420000</td>\n",
       "      <td>0.000000</td>\n",
       "      <td>0.000000</td>\n",
       "      <td>0.000000</td>\n",
       "    </tr>\n",
       "    <tr>\n",
       "      <th>25%</th>\n",
       "      <td>223.500000</td>\n",
       "      <td>0.000000</td>\n",
       "      <td>2.000000</td>\n",
       "      <td>20.125000</td>\n",
       "      <td>0.000000</td>\n",
       "      <td>0.000000</td>\n",
       "      <td>7.910400</td>\n",
       "    </tr>\n",
       "    <tr>\n",
       "      <th>50%</th>\n",
       "      <td>446.000000</td>\n",
       "      <td>0.000000</td>\n",
       "      <td>3.000000</td>\n",
       "      <td>28.000000</td>\n",
       "      <td>0.000000</td>\n",
       "      <td>0.000000</td>\n",
       "      <td>14.454200</td>\n",
       "    </tr>\n",
       "    <tr>\n",
       "      <th>75%</th>\n",
       "      <td>668.500000</td>\n",
       "      <td>1.000000</td>\n",
       "      <td>3.000000</td>\n",
       "      <td>38.000000</td>\n",
       "      <td>1.000000</td>\n",
       "      <td>0.000000</td>\n",
       "      <td>31.000000</td>\n",
       "    </tr>\n",
       "    <tr>\n",
       "      <th>max</th>\n",
       "      <td>891.000000</td>\n",
       "      <td>1.000000</td>\n",
       "      <td>3.000000</td>\n",
       "      <td>80.000000</td>\n",
       "      <td>8.000000</td>\n",
       "      <td>6.000000</td>\n",
       "      <td>512.329200</td>\n",
       "    </tr>\n",
       "  </tbody>\n",
       "</table>\n",
       "</div>"
      ],
      "text/plain": [
       "       PassengerId    Survived      Pclass         Age       SibSp  \\\n",
       "count   891.000000  891.000000  891.000000  714.000000  891.000000   \n",
       "mean    446.000000    0.383838    2.308642   29.699118    0.523008   \n",
       "std     257.353842    0.486592    0.836071   14.526497    1.102743   \n",
       "min       1.000000    0.000000    1.000000    0.420000    0.000000   \n",
       "25%     223.500000    0.000000    2.000000   20.125000    0.000000   \n",
       "50%     446.000000    0.000000    3.000000   28.000000    0.000000   \n",
       "75%     668.500000    1.000000    3.000000   38.000000    1.000000   \n",
       "max     891.000000    1.000000    3.000000   80.000000    8.000000   \n",
       "\n",
       "            Parch        Fare  \n",
       "count  891.000000  891.000000  \n",
       "mean     0.381594   32.204208  \n",
       "std      0.806057   49.693429  \n",
       "min      0.000000    0.000000  \n",
       "25%      0.000000    7.910400  \n",
       "50%      0.000000   14.454200  \n",
       "75%      0.000000   31.000000  \n",
       "max      6.000000  512.329200  "
      ]
     },
     "execution_count": 6,
     "metadata": {},
     "output_type": "execute_result"
    }
   ],
   "source": [
    "train_data.describe()"
   ]
  },
  {
   "cell_type": "code",
   "execution_count": null,
   "id": "50e08433",
   "metadata": {
    "papermill": {
     "duration": 0.050346,
     "end_time": "2022-01-15T12:22:22.102532",
     "exception": false,
     "start_time": "2022-01-15T12:22:22.052186",
     "status": "completed"
    },
    "tags": []
   },
   "outputs": [],
   "source": []
  },
  {
   "cell_type": "markdown",
   "id": "22f0cfbc",
   "metadata": {
    "papermill": {
     "duration": 0.050466,
     "end_time": "2022-01-15T12:22:22.203377",
     "exception": false,
     "start_time": "2022-01-15T12:22:22.152911",
     "status": "completed"
    },
    "tags": []
   },
   "source": [
    "# > Missing data in train_data. ** Missing data in test_data\n",
    "# > Age                         ** Age\n",
    "# > Carbin                      ** Fare \n",
    "# > Embark                      ** Carbin"
   ]
  },
  {
   "cell_type": "code",
   "execution_count": 7,
   "id": "38d23669",
   "metadata": {
    "execution": {
     "iopub.execute_input": "2022-01-15T12:22:22.329435Z",
     "iopub.status.busy": "2022-01-15T12:22:22.328708Z",
     "iopub.status.idle": "2022-01-15T12:22:22.333361Z",
     "shell.execute_reply": "2022-01-15T12:22:22.332402Z",
     "shell.execute_reply.started": "2022-01-15T12:01:15.988234Z"
    },
    "papermill": {
     "duration": 0.079714,
     "end_time": "2022-01-15T12:22:22.333558",
     "exception": false,
     "start_time": "2022-01-15T12:22:22.253844",
     "status": "completed"
    },
    "tags": []
   },
   "outputs": [
    {
     "name": "stdout",
     "output_type": "stream",
     "text": [
      "train_data:\n",
      "<class 'pandas.core.frame.DataFrame'>\n",
      "RangeIndex: 891 entries, 0 to 890\n",
      "Data columns (total 12 columns):\n",
      " #   Column       Non-Null Count  Dtype  \n",
      "---  ------       --------------  -----  \n",
      " 0   PassengerId  891 non-null    int64  \n",
      " 1   Survived     891 non-null    int64  \n",
      " 2   Pclass       891 non-null    int64  \n",
      " 3   Name         891 non-null    object \n",
      " 4   Sex          891 non-null    object \n",
      " 5   Age          714 non-null    float64\n",
      " 6   SibSp        891 non-null    int64  \n",
      " 7   Parch        891 non-null    int64  \n",
      " 8   Ticket       891 non-null    object \n",
      " 9   Fare         891 non-null    float64\n",
      " 10  Cabin        204 non-null    object \n",
      " 11  Embarked     889 non-null    object \n",
      "dtypes: float64(2), int64(5), object(5)\n",
      "memory usage: 83.7+ KB\n",
      "****************************************\n",
      "test_data\n",
      "<class 'pandas.core.frame.DataFrame'>\n",
      "RangeIndex: 418 entries, 0 to 417\n",
      "Data columns (total 11 columns):\n",
      " #   Column       Non-Null Count  Dtype  \n",
      "---  ------       --------------  -----  \n",
      " 0   PassengerId  418 non-null    int64  \n",
      " 1   Pclass       418 non-null    int64  \n",
      " 2   Name         418 non-null    object \n",
      " 3   Sex          418 non-null    object \n",
      " 4   Age          332 non-null    float64\n",
      " 5   SibSp        418 non-null    int64  \n",
      " 6   Parch        418 non-null    int64  \n",
      " 7   Ticket       418 non-null    object \n",
      " 8   Fare         417 non-null    float64\n",
      " 9   Cabin        91 non-null     object \n",
      " 10  Embarked     418 non-null    object \n",
      "dtypes: float64(2), int64(4), object(5)\n",
      "memory usage: 36.0+ KB\n"
     ]
    }
   ],
   "source": [
    "print(\"train_data:\")\n",
    "train_data.info()\n",
    "print(\"*\"*40)\n",
    "\n",
    "print(\"test_data\")\n",
    "test_data.info()\n"
   ]
  },
  {
   "cell_type": "code",
   "execution_count": 8,
   "id": "0a98f07b",
   "metadata": {
    "execution": {
     "iopub.execute_input": "2022-01-15T12:22:22.444878Z",
     "iopub.status.busy": "2022-01-15T12:22:22.444188Z",
     "iopub.status.idle": "2022-01-15T12:22:22.447100Z",
     "shell.execute_reply": "2022-01-15T12:22:22.447623Z",
     "shell.execute_reply.started": "2022-01-15T12:01:16.011191Z"
    },
    "papermill": {
     "duration": 0.06128,
     "end_time": "2022-01-15T12:22:22.447794",
     "exception": false,
     "start_time": "2022-01-15T12:22:22.386514",
     "status": "completed"
    },
    "tags": []
   },
   "outputs": [
    {
     "data": {
      "text/plain": [
       "0    549\n",
       "1    342\n",
       "Name: Survived, dtype: int64"
      ]
     },
     "execution_count": 8,
     "metadata": {},
     "output_type": "execute_result"
    }
   ],
   "source": [
    "a=train_data['Survived'].value_counts()\n",
    "a"
   ]
  },
  {
   "cell_type": "markdown",
   "id": "35cb45af",
   "metadata": {
    "papermill": {
     "duration": 0.050828,
     "end_time": "2022-01-15T12:22:22.549696",
     "exception": false,
     "start_time": "2022-01-15T12:22:22.498868",
     "status": "completed"
    },
    "tags": []
   },
   "source": [
    "# **Survival Rate**"
   ]
  },
  {
   "cell_type": "code",
   "execution_count": 9,
   "id": "8b247a10",
   "metadata": {
    "execution": {
     "iopub.execute_input": "2022-01-15T12:22:22.655982Z",
     "iopub.status.busy": "2022-01-15T12:22:22.655302Z",
     "iopub.status.idle": "2022-01-15T12:22:22.795272Z",
     "shell.execute_reply": "2022-01-15T12:22:22.796174Z",
     "shell.execute_reply.started": "2022-01-15T12:01:16.022819Z"
    },
    "papermill": {
     "duration": 0.195574,
     "end_time": "2022-01-15T12:22:22.796465",
     "exception": false,
     "start_time": "2022-01-15T12:22:22.600891",
     "status": "completed"
    },
    "tags": []
   },
   "outputs": [
    {
     "data": {
      "image/png": "[encoded data removed]",
      "text/plain": [
       "<Figure size 432x288 with 1 Axes>"
      ]
     },
     "metadata": {},
     "output_type": "display_data"
    }
   ],
   "source": [
    "def survival_chart():\n",
    "    sur_num=train_data['Survived'].value_counts()\n",
    "    data=[sur_num[1],sur_num[0]]\n",
    "    pielabels=['Yes','No']\n",
    "    colors = sns.color_palette('pastel')[0:2]\n",
    "    plt.pie(data , labels = pielabels, colors = colors, autopct='%.0f%%')\n",
    "survival_chart()"
   ]
  },
  {
   "cell_type": "markdown",
   "id": "09727149",
   "metadata": {
    "papermill": {
     "duration": 0.052457,
     "end_time": "2022-01-15T12:22:22.935647",
     "exception": false,
     "start_time": "2022-01-15T12:22:22.883190",
     "status": "completed"
    },
    "tags": []
   },
   "source": [
    "# **Pclass & Survival**"
   ]
  },
  {
   "cell_type": "code",
   "execution_count": 10,
   "id": "715907d4",
   "metadata": {
    "execution": {
     "iopub.execute_input": "2022-01-15T12:22:23.046285Z",
     "iopub.status.busy": "2022-01-15T12:22:23.044762Z",
     "iopub.status.idle": "2022-01-15T12:22:23.362565Z",
     "shell.execute_reply": "2022-01-15T12:22:23.361879Z",
     "shell.execute_reply.started": "2022-01-15T12:01:16.117335Z"
    },
    "papermill": {
     "duration": 0.375585,
     "end_time": "2022-01-15T12:22:23.362727",
     "exception": false,
     "start_time": "2022-01-15T12:22:22.987142",
     "status": "completed"
    },
    "tags": []
   },
   "outputs": [
    {
     "data": {
      "text/plain": [
       "<AxesSubplot:xlabel='Pclass', ylabel='Survived'>"
      ]
     },
     "execution_count": 10,
     "metadata": {},
     "output_type": "execute_result"
    },
    {
     "data": {
      "image/png": "[encoded data removed]",
      "text/plain": [
       "<Figure size 432x288 with 1 Axes>"
      ]
     },
     "metadata": {},
     "output_type": "display_data"
    }
   ],
   "source": [
    "sns.barplot(data=train_data,x='Pclass',y='Survived')"
   ]
  },
  {
   "cell_type": "markdown",
   "id": "683836e6",
   "metadata": {
    "papermill": {
     "duration": 0.052841,
     "end_time": "2022-01-15T12:22:23.468370",
     "exception": false,
     "start_time": "2022-01-15T12:22:23.415529",
     "status": "completed"
    },
    "tags": []
   },
   "source": [
    "# **Name & Survival**"
   ]
  },
  {
   "cell_type": "code",
   "execution_count": 11,
   "id": "8853ae52",
   "metadata": {
    "execution": {
     "iopub.execute_input": "2022-01-15T12:22:23.586495Z",
     "iopub.status.busy": "2022-01-15T12:22:23.583180Z",
     "iopub.status.idle": "2022-01-15T12:22:23.611096Z",
     "shell.execute_reply": "2022-01-15T12:22:23.611929Z",
     "shell.execute_reply.started": "2022-01-15T12:01:16.426731Z"
    },
    "papermill": {
     "duration": 0.0906,
     "end_time": "2022-01-15T12:22:23.612140",
     "exception": false,
     "start_time": "2022-01-15T12:22:23.521540",
     "status": "completed"
    },
    "tags": []
   },
   "outputs": [
    {
     "data": {
      "text/html": [
       "<div>\n",
       "<style scoped>\n",
       "    .dataframe tbody tr th:only-of-type {\n",
       "        vertical-align: middle;\n",
       "    }\n",
       "\n",
       "    .dataframe tbody tr th {\n",
       "        vertical-align: top;\n",
       "    }\n",
       "\n",
       "    .dataframe thead th {\n",
       "        text-align: right;\n",
       "    }\n",
       "</style>\n",
       "<table border=\"1\" class=\"dataframe\">\n",
       "  <thead>\n",
       "    <tr style=\"text-align: right;\">\n",
       "      <th>Sex</th>\n",
       "      <th>female</th>\n",
       "      <th>male</th>\n",
       "    </tr>\n",
       "    <tr>\n",
       "      <th>Title</th>\n",
       "      <th></th>\n",
       "      <th></th>\n",
       "    </tr>\n",
       "  </thead>\n",
       "  <tbody>\n",
       "    <tr>\n",
       "      <th>Capt</th>\n",
       "      <td>0</td>\n",
       "      <td>1</td>\n",
       "    </tr>\n",
       "    <tr>\n",
       "      <th>Col</th>\n",
       "      <td>0</td>\n",
       "      <td>2</td>\n",
       "    </tr>\n",
       "    <tr>\n",
       "      <th>Countess</th>\n",
       "      <td>1</td>\n",
       "      <td>0</td>\n",
       "    </tr>\n",
       "    <tr>\n",
       "      <th>Don</th>\n",
       "      <td>0</td>\n",
       "      <td>1</td>\n",
       "    </tr>\n",
       "    <tr>\n",
       "      <th>Dr</th>\n",
       "      <td>1</td>\n",
       "      <td>6</td>\n",
       "    </tr>\n",
       "    <tr>\n",
       "      <th>Jonkheer</th>\n",
       "      <td>0</td>\n",
       "      <td>1</td>\n",
       "    </tr>\n",
       "    <tr>\n",
       "      <th>Lady</th>\n",
       "      <td>1</td>\n",
       "      <td>0</td>\n",
       "    </tr>\n",
       "    <tr>\n",
       "      <th>Major</th>\n",
       "      <td>0</td>\n",
       "      <td>2</td>\n",
       "    </tr>\n",
       "    <tr>\n",
       "      <th>Master</th>\n",
       "      <td>0</td>\n",
       "      <td>40</td>\n",
       "    </tr>\n",
       "    <tr>\n",
       "      <th>Miss</th>\n",
       "      <td>182</td>\n",
       "      <td>0</td>\n",
       "    </tr>\n",
       "    <tr>\n",
       "      <th>Mlle</th>\n",
       "      <td>2</td>\n",
       "      <td>0</td>\n",
       "    </tr>\n",
       "    <tr>\n",
       "      <th>Mme</th>\n",
       "      <td>1</td>\n",
       "      <td>0</td>\n",
       "    </tr>\n",
       "    <tr>\n",
       "      <th>Mr</th>\n",
       "      <td>0</td>\n",
       "      <td>517</td>\n",
       "    </tr>\n",
       "    <tr>\n",
       "      <th>Mrs</th>\n",
       "      <td>125</td>\n",
       "      <td>0</td>\n",
       "    </tr>\n",
       "    <tr>\n",
       "      <th>Ms</th>\n",
       "      <td>1</td>\n",
       "      <td>0</td>\n",
       "    </tr>\n",
       "    <tr>\n",
       "      <th>Rev</th>\n",
       "      <td>0</td>\n",
       "      <td>6</td>\n",
       "    </tr>\n",
       "    <tr>\n",
       "      <th>Sir</th>\n",
       "      <td>0</td>\n",
       "      <td>1</td>\n",
       "    </tr>\n",
       "  </tbody>\n",
       "</table>\n",
       "</div>"
      ],
      "text/plain": [
       "Sex       female  male\n",
       "Title                 \n",
       "Capt           0     1\n",
       "Col            0     2\n",
       "Countess       1     0\n",
       "Don            0     1\n",
       "Dr             1     6\n",
       "Jonkheer       0     1\n",
       "Lady           1     0\n",
       "Major          0     2\n",
       "Master         0    40\n",
       "Miss         182     0\n",
       "Mlle           2     0\n",
       "Mme            1     0\n",
       "Mr             0   517\n",
       "Mrs          125     0\n",
       "Ms             1     0\n",
       "Rev            0     6\n",
       "Sir            0     1"
      ]
     },
     "execution_count": 11,
     "metadata": {},
     "output_type": "execute_result"
    }
   ],
   "source": [
    "full_data['Title'] = full_data['Name'].str.extract(' ([A-Za-z]+)\\.', expand=False)\n",
    "pd.crosstab(full_data['Title'], train_data['Sex'])"
   ]
  },
  {
   "cell_type": "code",
   "execution_count": 12,
   "id": "0c13773d",
   "metadata": {
    "execution": {
     "iopub.execute_input": "2022-01-15T12:22:23.724049Z",
     "iopub.status.busy": "2022-01-15T12:22:23.723033Z",
     "iopub.status.idle": "2022-01-15T12:22:24.377186Z",
     "shell.execute_reply": "2022-01-15T12:22:24.377724Z",
     "shell.execute_reply.started": "2022-01-15T12:01:16.449812Z"
    },
    "papermill": {
     "duration": 0.711739,
     "end_time": "2022-01-15T12:22:24.377907",
     "exception": false,
     "start_time": "2022-01-15T12:22:23.666168",
     "status": "completed"
    },
    "tags": []
   },
   "outputs": [
    {
     "data": {
      "image/png": "[encoded data removed]",
      "text/plain": [
       "<Figure size 432x288 with 1 Axes>"
      ]
     },
     "metadata": {},
     "output_type": "display_data"
    }
   ],
   "source": [
    "\n",
    "titleplot=sns.barplot(data=full_data,x='Title',y='Survived')\n"
   ]
  },
  {
   "cell_type": "markdown",
   "id": "435ae32b",
   "metadata": {
    "papermill": {
     "duration": 0.053689,
     "end_time": "2022-01-15T12:22:24.485666",
     "exception": false,
     "start_time": "2022-01-15T12:22:24.431977",
     "status": "completed"
    },
    "tags": []
   },
   "source": [
    "# **Sex & Survival**"
   ]
  },
  {
   "cell_type": "code",
   "execution_count": 13,
   "id": "7a5cb536",
   "metadata": {
    "execution": {
     "iopub.execute_input": "2022-01-15T12:22:24.602814Z",
     "iopub.status.busy": "2022-01-15T12:22:24.602127Z",
     "iopub.status.idle": "2022-01-15T12:22:24.872889Z",
     "shell.execute_reply": "2022-01-15T12:22:24.873389Z",
     "shell.execute_reply.started": "2022-01-15T12:01:16.975267Z"
    },
    "papermill": {
     "duration": 0.333926,
     "end_time": "2022-01-15T12:22:24.873570",
     "exception": false,
     "start_time": "2022-01-15T12:22:24.539644",
     "status": "completed"
    },
    "tags": []
   },
   "outputs": [
    {
     "data": {
      "text/plain": [
       "<AxesSubplot:xlabel='Sex', ylabel='Survived'>"
      ]
     },
     "execution_count": 13,
     "metadata": {},
     "output_type": "execute_result"
    },
    {
     "data": {
      "image/png": "[encoded data removed]",
      "text/plain": [
       "<Figure size 432x288 with 1 Axes>"
      ]
     },
     "metadata": {},
     "output_type": "display_data"
    }
   ],
   "source": [
    "sns.barplot(data=train_data,x='Sex',y='Survived')"
   ]
  },
  {
   "cell_type": "markdown",
   "id": "71dc14ee",
   "metadata": {
    "papermill": {
     "duration": 0.055332,
     "end_time": "2022-01-15T12:22:24.984729",
     "exception": false,
     "start_time": "2022-01-15T12:22:24.929397",
     "status": "completed"
    },
    "tags": []
   },
   "source": [
    "# **Age & Survival**"
   ]
  },
  {
   "cell_type": "code",
   "execution_count": 14,
   "id": "506cb56c",
   "metadata": {
    "execution": {
     "iopub.execute_input": "2022-01-15T12:22:25.104204Z",
     "iopub.status.busy": "2022-01-15T12:22:25.103496Z",
     "iopub.status.idle": "2022-01-15T12:22:25.672391Z",
     "shell.execute_reply": "2022-01-15T12:22:25.672873Z",
     "shell.execute_reply.started": "2022-01-15T12:01:17.229284Z"
    },
    "papermill": {
     "duration": 0.633391,
     "end_time": "2022-01-15T12:22:25.673055",
     "exception": false,
     "start_time": "2022-01-15T12:22:25.039664",
     "status": "completed"
    },
    "tags": []
   },
   "outputs": [
    {
     "data": {
      "text/plain": [
       "<seaborn.axisgrid.FacetGrid at 0x7ff661b9b910>"
      ]
     },
     "execution_count": 14,
     "metadata": {},
     "output_type": "execute_result"
    },
    {
     "data": {
      "image/png": "[encoded data removed]",
      "text/plain": [
       "<Figure size 925.55x216 with 1 Axes>"
      ]
     },
     "metadata": {},
     "output_type": "display_data"
    }
   ],
   "source": [
    "agemap = sns.FacetGrid (train_data , hue = 'Survived',aspect = 4)\n",
    "agemap.map(sns.kdeplot,'Age',shade = True)\n",
    "agemap.set(xlim = (0,train_data['Age'].max()))\n",
    "agemap.add_legend()"
   ]
  },
  {
   "cell_type": "code",
   "execution_count": null,
   "id": "eb090737",
   "metadata": {
    "papermill": {
     "duration": 0.05852,
     "end_time": "2022-01-15T12:22:25.788080",
     "exception": false,
     "start_time": "2022-01-15T12:22:25.729560",
     "status": "completed"
    },
    "tags": []
   },
   "outputs": [],
   "source": []
  },
  {
   "cell_type": "markdown",
   "id": "e8428b8a",
   "metadata": {
    "papermill": {
     "duration": 0.056184,
     "end_time": "2022-01-15T12:22:25.901643",
     "exception": false,
     "start_time": "2022-01-15T12:22:25.845459",
     "status": "completed"
    },
    "tags": []
   },
   "source": [
    "# **Sibsp & Survival**"
   ]
  },
  {
   "cell_type": "code",
   "execution_count": 15,
   "id": "fa07db1e",
   "metadata": {
    "execution": {
     "iopub.execute_input": "2022-01-15T12:22:26.028707Z",
     "iopub.status.busy": "2022-01-15T12:22:26.028008Z",
     "iopub.status.idle": "2022-01-15T12:22:26.506820Z",
     "shell.execute_reply": "2022-01-15T12:22:26.506245Z",
     "shell.execute_reply.started": "2022-01-15T12:01:17.796589Z"
    },
    "papermill": {
     "duration": 0.547983,
     "end_time": "2022-01-15T12:22:26.506962",
     "exception": false,
     "start_time": "2022-01-15T12:22:25.958979",
     "status": "completed"
    },
    "tags": []
   },
   "outputs": [
    {
     "data": {
      "text/plain": [
       "<AxesSubplot:xlabel='SibSp', ylabel='Survived'>"
      ]
     },
     "execution_count": 15,
     "metadata": {},
     "output_type": "execute_result"
    },
    {
     "data": {
      "image/png": "[encoded data removed]",
      "text/plain": [
       "<Figure size 432x288 with 1 Axes>"
      ]
     },
     "metadata": {},
     "output_type": "display_data"
    }
   ],
   "source": [
    "sns.barplot(data = train_data,x = 'SibSp',y = 'Survived')"
   ]
  },
  {
   "cell_type": "markdown",
   "id": "6c0d4031",
   "metadata": {
    "papermill": {
     "duration": 0.059353,
     "end_time": "2022-01-15T12:22:26.623679",
     "exception": false,
     "start_time": "2022-01-15T12:22:26.564326",
     "status": "completed"
    },
    "tags": []
   },
   "source": [
    "# **Parch & Survival**"
   ]
  },
  {
   "cell_type": "code",
   "execution_count": 16,
   "id": "25f8cc60",
   "metadata": {
    "execution": {
     "iopub.execute_input": "2022-01-15T12:22:26.749878Z",
     "iopub.status.busy": "2022-01-15T12:22:26.745193Z",
     "iopub.status.idle": "2022-01-15T12:22:27.201511Z",
     "shell.execute_reply": "2022-01-15T12:22:27.202056Z",
     "shell.execute_reply.started": "2022-01-15T12:01:18.188818Z"
    },
    "papermill": {
     "duration": 0.520606,
     "end_time": "2022-01-15T12:22:27.202244",
     "exception": false,
     "start_time": "2022-01-15T12:22:26.681638",
     "status": "completed"
    },
    "tags": []
   },
   "outputs": [
    {
     "data": {
      "text/plain": [
       "<AxesSubplot:xlabel='Parch', ylabel='Survived'>"
      ]
     },
     "execution_count": 16,
     "metadata": {},
     "output_type": "execute_result"
    },
    {
     "data": {
      "image/png": "[encoded data removed]",
      "text/plain": [
       "<Figure size 432x288 with 1 Axes>"
      ]
     },
     "metadata": {},
     "output_type": "display_data"
    }
   ],
   "source": [
    "sns.barplot(data = train_data,x = 'Parch',y = 'Survived')"
   ]
  },
  {
   "cell_type": "markdown",
   "id": "6ac102fd",
   "metadata": {
    "papermill": {
     "duration": 0.058684,
     "end_time": "2022-01-15T12:22:27.321363",
     "exception": false,
     "start_time": "2022-01-15T12:22:27.262679",
     "status": "completed"
    },
    "tags": []
   },
   "source": [
    "# **Fare**"
   ]
  },
  {
   "cell_type": "code",
   "execution_count": 17,
   "id": "7889becd",
   "metadata": {
    "execution": {
     "iopub.execute_input": "2022-01-15T12:22:27.445601Z",
     "iopub.status.busy": "2022-01-15T12:22:27.444891Z",
     "iopub.status.idle": "2022-01-15T12:22:27.975379Z",
     "shell.execute_reply": "2022-01-15T12:22:27.974702Z",
     "shell.execute_reply.started": "2022-01-15T12:01:18.549377Z"
    },
    "papermill": {
     "duration": 0.595147,
     "end_time": "2022-01-15T12:22:27.975519",
     "exception": false,
     "start_time": "2022-01-15T12:22:27.380372",
     "status": "completed"
    },
    "tags": []
   },
   "outputs": [
    {
     "data": {
      "text/plain": [
       "<seaborn.axisgrid.FacetGrid at 0x7ff661a84210>"
      ]
     },
     "execution_count": 17,
     "metadata": {},
     "output_type": "execute_result"
    },
    {
     "data": {
      "image/png": "[encoded data removed]",
      "text/plain": [
       "<Figure size 925.55x216 with 1 Axes>"
      ]
     },
     "metadata": {},
     "output_type": "display_data"
    }
   ],
   "source": [
    "faremap = sns.FacetGrid (train_data , hue = 'Survived',aspect = 4)\n",
    "faremap.map(sns.kdeplot,'Fare',shade = True)\n",
    "faremap.set(xlim = (0,train_data['Fare'].max()))\n",
    "faremap.add_legend()"
   ]
  },
  {
   "cell_type": "markdown",
   "id": "2bffe739",
   "metadata": {
    "papermill": {
     "duration": 0.060768,
     "end_time": "2022-01-15T12:22:28.097368",
     "exception": false,
     "start_time": "2022-01-15T12:22:28.036600",
     "status": "completed"
    },
    "tags": []
   },
   "source": [
    "# **Features**"
   ]
  },
  {
   "cell_type": "code",
   "execution_count": null,
   "id": "4d2250c9",
   "metadata": {
    "papermill": {
     "duration": 0.060686,
     "end_time": "2022-01-15T12:22:28.218850",
     "exception": false,
     "start_time": "2022-01-15T12:22:28.158164",
     "status": "completed"
    },
    "tags": []
   },
   "outputs": [],
   "source": []
  },
  {
   "cell_type": "markdown",
   "id": "ae82e0e0",
   "metadata": {
    "papermill": {
     "duration": 0.061095,
     "end_time": "2022-01-15T12:22:28.340171",
     "exception": false,
     "start_time": "2022-01-15T12:22:28.279076",
     "status": "completed"
    },
    "tags": []
   },
   "source": [
    "# **Name Title**"
   ]
  },
  {
   "cell_type": "code",
   "execution_count": 18,
   "id": "e2adf63c",
   "metadata": {
    "execution": {
     "iopub.execute_input": "2022-01-15T12:22:28.464188Z",
     "iopub.status.busy": "2022-01-15T12:22:28.463569Z",
     "iopub.status.idle": "2022-01-15T12:22:28.476583Z",
     "shell.execute_reply": "2022-01-15T12:22:28.477083Z",
     "shell.execute_reply.started": "2022-01-15T12:01:19.038503Z"
    },
    "papermill": {
     "duration": 0.076426,
     "end_time": "2022-01-15T12:22:28.477249",
     "exception": false,
     "start_time": "2022-01-15T12:22:28.400823",
     "status": "completed"
    },
    "tags": []
   },
   "outputs": [
    {
     "data": {
      "text/plain": [
       "Mr         757\n",
       "Miss       262\n",
       "Mrs        200\n",
       "Master      62\n",
       "Officer     23\n",
       "Royalty      5\n",
       "Name: Title, dtype: int64"
      ]
     },
     "execution_count": 18,
     "metadata": {},
     "output_type": "execute_result"
    }
   ],
   "source": [
    "TitleDict={}\n",
    "TitleDict['Mr']='Mr'\n",
    "TitleDict['Mlle']='Miss'\n",
    "TitleDict['Miss']='Miss'\n",
    "TitleDict['Master']='Master'\n",
    "TitleDict['Jonkheer']='Master'\n",
    "TitleDict['Mme']='Mrs'\n",
    "TitleDict['Ms']='Mrs'\n",
    "TitleDict['Mrs']='Mrs'\n",
    "TitleDict['Don']='Royalty'\n",
    "TitleDict['Sir']='Royalty'\n",
    "TitleDict['Countess']='Royalty'\n",
    "TitleDict['Dona']='Royalty'\n",
    "TitleDict['Lady']='Royalty'\n",
    "TitleDict['Capt']='Officer'\n",
    "TitleDict['Col']='Officer'\n",
    "TitleDict['Major']='Officer'\n",
    "TitleDict['Dr']='Officer'\n",
    "TitleDict['Rev']='Officer'\n",
    "\n",
    "full_data['Title']=full_data['Title'].map(TitleDict)\n",
    "full_data['Title'].value_counts()"
   ]
  },
  {
   "cell_type": "markdown",
   "id": "37b80b5d",
   "metadata": {
    "papermill": {
     "duration": 0.060509,
     "end_time": "2022-01-15T12:22:28.599369",
     "exception": false,
     "start_time": "2022-01-15T12:22:28.538860",
     "status": "completed"
    },
    "tags": []
   },
   "source": [
    "# **FamilyNum**"
   ]
  },
  {
   "cell_type": "code",
   "execution_count": 19,
   "id": "0edb0b40",
   "metadata": {
    "execution": {
     "iopub.execute_input": "2022-01-15T12:22:28.725490Z",
     "iopub.status.busy": "2022-01-15T12:22:28.724739Z",
     "iopub.status.idle": "2022-01-15T12:22:28.729328Z",
     "shell.execute_reply": "2022-01-15T12:22:28.729883Z",
     "shell.execute_reply.started": "2022-01-15T12:01:19.052133Z"
    },
    "papermill": {
     "duration": 0.068819,
     "end_time": "2022-01-15T12:22:28.730048",
     "exception": false,
     "start_time": "2022-01-15T12:22:28.661229",
     "status": "completed"
    },
    "tags": []
   },
   "outputs": [],
   "source": [
    "full_data['FamilyNum']=full_data['SibSp']+full_data['Parch']+1"
   ]
  },
  {
   "cell_type": "code",
   "execution_count": null,
   "id": "213518a7",
   "metadata": {
    "papermill": {
     "duration": 0.06192,
     "end_time": "2022-01-15T12:22:28.852640",
     "exception": false,
     "start_time": "2022-01-15T12:22:28.790720",
     "status": "completed"
    },
    "tags": []
   },
   "outputs": [],
   "source": []
  },
  {
   "cell_type": "markdown",
   "id": "1426dcbe",
   "metadata": {
    "papermill": {
     "duration": 0.061068,
     "end_time": "2022-01-15T12:22:28.975953",
     "exception": false,
     "start_time": "2022-01-15T12:22:28.914885",
     "status": "completed"
    },
    "tags": []
   },
   "source": [
    "# **Missing Value & New Features**"
   ]
  },
  {
   "cell_type": "code",
   "execution_count": 20,
   "id": "9b8edc64",
   "metadata": {
    "execution": {
     "iopub.execute_input": "2022-01-15T12:22:29.104017Z",
     "iopub.status.busy": "2022-01-15T12:22:29.103318Z",
     "iopub.status.idle": "2022-01-15T12:22:29.106660Z",
     "shell.execute_reply": "2022-01-15T12:22:29.107153Z",
     "shell.execute_reply.started": "2022-01-15T12:01:19.063165Z"
    },
    "papermill": {
     "duration": 0.069775,
     "end_time": "2022-01-15T12:22:29.107318",
     "exception": false,
     "start_time": "2022-01-15T12:22:29.037543",
     "status": "completed"
    },
    "tags": []
   },
   "outputs": [],
   "source": [
    "# carbin\n",
    "full_data['Cabin']=full_data['Cabin'].fillna('U')"
   ]
  },
  {
   "cell_type": "code",
   "execution_count": 21,
   "id": "fcf9cf5f",
   "metadata": {
    "execution": {
     "iopub.execute_input": "2022-01-15T12:22:29.237649Z",
     "iopub.status.busy": "2022-01-15T12:22:29.236956Z",
     "iopub.status.idle": "2022-01-15T12:22:29.240094Z",
     "shell.execute_reply": "2022-01-15T12:22:29.239597Z",
     "shell.execute_reply.started": "2022-01-15T12:01:19.074981Z"
    },
    "papermill": {
     "duration": 0.069985,
     "end_time": "2022-01-15T12:22:29.240230",
     "exception": false,
     "start_time": "2022-01-15T12:22:29.170245",
     "status": "completed"
    },
    "tags": []
   },
   "outputs": [],
   "source": [
    "full_data['Deck']=full_data['Cabin'].map(lambda x:x[0])"
   ]
  },
  {
   "cell_type": "code",
   "execution_count": 22,
   "id": "431cd298",
   "metadata": {
    "execution": {
     "iopub.execute_input": "2022-01-15T12:22:29.367660Z",
     "iopub.status.busy": "2022-01-15T12:22:29.367041Z",
     "iopub.status.idle": "2022-01-15T12:22:29.369773Z",
     "shell.execute_reply": "2022-01-15T12:22:29.369241Z",
     "shell.execute_reply.started": "2022-01-15T12:01:19.088642Z"
    },
    "papermill": {
     "duration": 0.069114,
     "end_time": "2022-01-15T12:22:29.369914",
     "exception": false,
     "start_time": "2022-01-15T12:22:29.300800",
     "status": "completed"
    },
    "tags": []
   },
   "outputs": [],
   "source": [
    "full_data['Embarked']=full_data['Embarked'].fillna('S')"
   ]
  },
  {
   "cell_type": "code",
   "execution_count": 23,
   "id": "1a1991b4",
   "metadata": {
    "execution": {
     "iopub.execute_input": "2022-01-15T12:22:29.498986Z",
     "iopub.status.busy": "2022-01-15T12:22:29.498189Z",
     "iopub.status.idle": "2022-01-15T12:22:29.504118Z",
     "shell.execute_reply": "2022-01-15T12:22:29.504675Z",
     "shell.execute_reply.started": "2022-01-15T12:01:19.100792Z"
    },
    "papermill": {
     "duration": 0.073263,
     "end_time": "2022-01-15T12:22:29.504846",
     "exception": false,
     "start_time": "2022-01-15T12:22:29.431583",
     "status": "completed"
    },
    "tags": []
   },
   "outputs": [],
   "source": [
    "full_data[full_data['Fare'].isnull()]\n",
    "full_data['Fare']=full_data['Fare'].fillna(full_data[(full_data['Pclass']==3)&(full_data['Embarked']=='S')&(full_data['Cabin']=='U')]['Fare'].mean())"
   ]
  },
  {
   "cell_type": "code",
   "execution_count": 24,
   "id": "935f2d1b",
   "metadata": {
    "execution": {
     "iopub.execute_input": "2022-01-15T12:22:29.628627Z",
     "iopub.status.busy": "2022-01-15T12:22:29.627983Z",
     "iopub.status.idle": "2022-01-15T12:22:29.655517Z",
     "shell.execute_reply": "2022-01-15T12:22:29.654994Z",
     "shell.execute_reply.started": "2022-01-15T12:01:19.113689Z"
    },
    "papermill": {
     "duration": 0.090448,
     "end_time": "2022-01-15T12:22:29.655656",
     "exception": false,
     "start_time": "2022-01-15T12:22:29.565208",
     "status": "completed"
    },
    "tags": []
   },
   "outputs": [
    {
     "data": {
      "text/html": [
       "<div>\n",
       "<style scoped>\n",
       "    .dataframe tbody tr th:only-of-type {\n",
       "        vertical-align: middle;\n",
       "    }\n",
       "\n",
       "    .dataframe tbody tr th {\n",
       "        vertical-align: top;\n",
       "    }\n",
       "\n",
       "    .dataframe thead th {\n",
       "        text-align: right;\n",
       "    }\n",
       "</style>\n",
       "<table border=\"1\" class=\"dataframe\">\n",
       "  <thead>\n",
       "    <tr style=\"text-align: right;\">\n",
       "      <th></th>\n",
       "      <th>PassengerId</th>\n",
       "      <th>Survived</th>\n",
       "      <th>Pclass</th>\n",
       "      <th>Name</th>\n",
       "      <th>Sex</th>\n",
       "      <th>Age</th>\n",
       "      <th>SibSp</th>\n",
       "      <th>Parch</th>\n",
       "      <th>Ticket</th>\n",
       "      <th>Fare</th>\n",
       "      <th>Cabin</th>\n",
       "      <th>Embarked</th>\n",
       "      <th>Title</th>\n",
       "      <th>FamilyNum</th>\n",
       "      <th>Deck</th>\n",
       "    </tr>\n",
       "  </thead>\n",
       "  <tbody>\n",
       "    <tr>\n",
       "      <th>0</th>\n",
       "      <td>1</td>\n",
       "      <td>0.0</td>\n",
       "      <td>3</td>\n",
       "      <td>Braund, Mr. Owen Harris</td>\n",
       "      <td>male</td>\n",
       "      <td>22.0</td>\n",
       "      <td>1</td>\n",
       "      <td>0</td>\n",
       "      <td>A/5 21171</td>\n",
       "      <td>7.2500</td>\n",
       "      <td>U</td>\n",
       "      <td>S</td>\n",
       "      <td>Mr</td>\n",
       "      <td>2</td>\n",
       "      <td>U</td>\n",
       "    </tr>\n",
       "    <tr>\n",
       "      <th>1</th>\n",
       "      <td>2</td>\n",
       "      <td>1.0</td>\n",
       "      <td>1</td>\n",
       "      <td>Cumings, Mrs. John Bradley (Florence Briggs Th...</td>\n",
       "      <td>female</td>\n",
       "      <td>38.0</td>\n",
       "      <td>1</td>\n",
       "      <td>0</td>\n",
       "      <td>PC 17599</td>\n",
       "      <td>71.2833</td>\n",
       "      <td>C85</td>\n",
       "      <td>C</td>\n",
       "      <td>Mrs</td>\n",
       "      <td>2</td>\n",
       "      <td>C</td>\n",
       "    </tr>\n",
       "    <tr>\n",
       "      <th>2</th>\n",
       "      <td>3</td>\n",
       "      <td>1.0</td>\n",
       "      <td>3</td>\n",
       "      <td>Heikkinen, Miss. Laina</td>\n",
       "      <td>female</td>\n",
       "      <td>26.0</td>\n",
       "      <td>0</td>\n",
       "      <td>0</td>\n",
       "      <td>STON/O2. 3101282</td>\n",
       "      <td>7.9250</td>\n",
       "      <td>U</td>\n",
       "      <td>S</td>\n",
       "      <td>Miss</td>\n",
       "      <td>1</td>\n",
       "      <td>U</td>\n",
       "    </tr>\n",
       "    <tr>\n",
       "      <th>3</th>\n",
       "      <td>4</td>\n",
       "      <td>1.0</td>\n",
       "      <td>1</td>\n",
       "      <td>Futrelle, Mrs. Jacques Heath (Lily May Peel)</td>\n",
       "      <td>female</td>\n",
       "      <td>35.0</td>\n",
       "      <td>1</td>\n",
       "      <td>0</td>\n",
       "      <td>113803</td>\n",
       "      <td>53.1000</td>\n",
       "      <td>C123</td>\n",
       "      <td>S</td>\n",
       "      <td>Mrs</td>\n",
       "      <td>2</td>\n",
       "      <td>C</td>\n",
       "    </tr>\n",
       "    <tr>\n",
       "      <th>4</th>\n",
       "      <td>5</td>\n",
       "      <td>0.0</td>\n",
       "      <td>3</td>\n",
       "      <td>Allen, Mr. William Henry</td>\n",
       "      <td>male</td>\n",
       "      <td>35.0</td>\n",
       "      <td>0</td>\n",
       "      <td>0</td>\n",
       "      <td>373450</td>\n",
       "      <td>8.0500</td>\n",
       "      <td>U</td>\n",
       "      <td>S</td>\n",
       "      <td>Mr</td>\n",
       "      <td>1</td>\n",
       "      <td>U</td>\n",
       "    </tr>\n",
       "    <tr>\n",
       "      <th>...</th>\n",
       "      <td>...</td>\n",
       "      <td>...</td>\n",
       "      <td>...</td>\n",
       "      <td>...</td>\n",
       "      <td>...</td>\n",
       "      <td>...</td>\n",
       "      <td>...</td>\n",
       "      <td>...</td>\n",
       "      <td>...</td>\n",
       "      <td>...</td>\n",
       "      <td>...</td>\n",
       "      <td>...</td>\n",
       "      <td>...</td>\n",
       "      <td>...</td>\n",
       "      <td>...</td>\n",
       "    </tr>\n",
       "    <tr>\n",
       "      <th>1304</th>\n",
       "      <td>1305</td>\n",
       "      <td>NaN</td>\n",
       "      <td>3</td>\n",
       "      <td>Spector, Mr. Woolf</td>\n",
       "      <td>male</td>\n",
       "      <td>NaN</td>\n",
       "      <td>0</td>\n",
       "      <td>0</td>\n",
       "      <td>A.5. 3236</td>\n",
       "      <td>8.0500</td>\n",
       "      <td>U</td>\n",
       "      <td>S</td>\n",
       "      <td>Mr</td>\n",
       "      <td>1</td>\n",
       "      <td>U</td>\n",
       "    </tr>\n",
       "    <tr>\n",
       "      <th>1305</th>\n",
       "      <td>1306</td>\n",
       "      <td>NaN</td>\n",
       "      <td>1</td>\n",
       "      <td>Oliva y Ocana, Dona. Fermina</td>\n",
       "      <td>female</td>\n",
       "      <td>39.0</td>\n",
       "      <td>0</td>\n",
       "      <td>0</td>\n",
       "      <td>PC 17758</td>\n",
       "      <td>108.9000</td>\n",
       "      <td>C105</td>\n",
       "      <td>C</td>\n",
       "      <td>Royalty</td>\n",
       "      <td>1</td>\n",
       "      <td>C</td>\n",
       "    </tr>\n",
       "    <tr>\n",
       "      <th>1306</th>\n",
       "      <td>1307</td>\n",
       "      <td>NaN</td>\n",
       "      <td>3</td>\n",
       "      <td>Saether, Mr. Simon Sivertsen</td>\n",
       "      <td>male</td>\n",
       "      <td>38.5</td>\n",
       "      <td>0</td>\n",
       "      <td>0</td>\n",
       "      <td>SOTON/O.Q. 3101262</td>\n",
       "      <td>7.2500</td>\n",
       "      <td>U</td>\n",
       "      <td>S</td>\n",
       "      <td>Mr</td>\n",
       "      <td>1</td>\n",
       "      <td>U</td>\n",
       "    </tr>\n",
       "    <tr>\n",
       "      <th>1307</th>\n",
       "      <td>1308</td>\n",
       "      <td>NaN</td>\n",
       "      <td>3</td>\n",
       "      <td>Ware, Mr. Frederick</td>\n",
       "      <td>male</td>\n",
       "      <td>NaN</td>\n",
       "      <td>0</td>\n",
       "      <td>0</td>\n",
       "      <td>359309</td>\n",
       "      <td>8.0500</td>\n",
       "      <td>U</td>\n",
       "      <td>S</td>\n",
       "      <td>Mr</td>\n",
       "      <td>1</td>\n",
       "      <td>U</td>\n",
       "    </tr>\n",
       "    <tr>\n",
       "      <th>1308</th>\n",
       "      <td>1309</td>\n",
       "      <td>NaN</td>\n",
       "      <td>3</td>\n",
       "      <td>Peter, Master. Michael J</td>\n",
       "      <td>male</td>\n",
       "      <td>NaN</td>\n",
       "      <td>1</td>\n",
       "      <td>1</td>\n",
       "      <td>2668</td>\n",
       "      <td>22.3583</td>\n",
       "      <td>U</td>\n",
       "      <td>C</td>\n",
       "      <td>Master</td>\n",
       "      <td>3</td>\n",
       "      <td>U</td>\n",
       "    </tr>\n",
       "  </tbody>\n",
       "</table>\n",
       "<p>1309 rows × 15 columns</p>\n",
       "</div>"
      ],
      "text/plain": [
       "      PassengerId  Survived  Pclass  \\\n",
       "0               1       0.0       3   \n",
       "1               2       1.0       1   \n",
       "2               3       1.0       3   \n",
       "3               4       1.0       1   \n",
       "4               5       0.0       3   \n",
       "...           ...       ...     ...   \n",
       "1304         1305       NaN       3   \n",
       "1305         1306       NaN       1   \n",
       "1306         1307       NaN       3   \n",
       "1307         1308       NaN       3   \n",
       "1308         1309       NaN       3   \n",
       "\n",
       "                                                   Name     Sex   Age  SibSp  \\\n",
       "0                               Braund, Mr. Owen Harris    male  22.0      1   \n",
       "1     Cumings, Mrs. John Bradley (Florence Briggs Th...  female  38.0      1   \n",
       "2                                Heikkinen, Miss. Laina  female  26.0      0   \n",
       "3          Futrelle, Mrs. Jacques Heath (Lily May Peel)  female  35.0      1   \n",
       "4                              Allen, Mr. William Henry    male  35.0      0   \n",
       "...                                                 ...     ...   ...    ...   \n",
       "1304                                 Spector, Mr. Woolf    male   NaN      0   \n",
       "1305                       Oliva y Ocana, Dona. Fermina  female  39.0      0   \n",
       "1306                       Saether, Mr. Simon Sivertsen    male  38.5      0   \n",
       "1307                                Ware, Mr. Frederick    male   NaN      0   \n",
       "1308                           Peter, Master. Michael J    male   NaN      1   \n",
       "\n",
       "      Parch              Ticket      Fare Cabin Embarked    Title  FamilyNum  \\\n",
       "0         0           A/5 21171    7.2500     U        S       Mr          2   \n",
       "1         0            PC 17599   71.2833   C85        C      Mrs          2   \n",
       "2         0    STON/O2. 3101282    7.9250     U        S     Miss          1   \n",
       "3         0              113803   53.1000  C123        S      Mrs          2   \n",
       "4         0              373450    8.0500     U        S       Mr          1   \n",
       "...     ...                 ...       ...   ...      ...      ...        ...   \n",
       "1304      0           A.5. 3236    8.0500     U        S       Mr          1   \n",
       "1305      0            PC 17758  108.9000  C105        C  Royalty          1   \n",
       "1306      0  SOTON/O.Q. 3101262    7.2500     U        S       Mr          1   \n",
       "1307      0              359309    8.0500     U        S       Mr          1   \n",
       "1308      1                2668   22.3583     U        C   Master          3   \n",
       "\n",
       "     Deck  \n",
       "0       U  \n",
       "1       C  \n",
       "2       U  \n",
       "3       C  \n",
       "4       U  \n",
       "...   ...  \n",
       "1304    U  \n",
       "1305    C  \n",
       "1306    U  \n",
       "1307    U  \n",
       "1308    U  \n",
       "\n",
       "[1309 rows x 15 columns]"
      ]
     },
     "execution_count": 24,
     "metadata": {},
     "output_type": "execute_result"
    }
   ],
   "source": [
    "full_data"
   ]
  },
  {
   "cell_type": "code",
   "execution_count": 25,
   "id": "01652f89",
   "metadata": {
    "execution": {
     "iopub.execute_input": "2022-01-15T12:22:29.780641Z",
     "iopub.status.busy": "2022-01-15T12:22:29.779987Z",
     "iopub.status.idle": "2022-01-15T12:22:29.785864Z",
     "shell.execute_reply": "2022-01-15T12:22:29.786361Z",
     "shell.execute_reply.started": "2022-01-15T12:01:19.143034Z"
    },
    "papermill": {
     "duration": 0.069865,
     "end_time": "2022-01-15T12:22:29.786534",
     "exception": false,
     "start_time": "2022-01-15T12:22:29.716669",
     "status": "completed"
    },
    "tags": []
   },
   "outputs": [],
   "source": [
    "# full_data['Sex']=full_data['Sex'].map(lambda x: x if x=='male' else 1 ).map(lambda x: x if x==1 else 0 )\n",
    "full_data['Sex']=full_data['Sex'].map(lambda x: 0 if x=='male' else 1 )"
   ]
  },
  {
   "cell_type": "code",
   "execution_count": 26,
   "id": "650fa4b6",
   "metadata": {
    "execution": {
     "iopub.execute_input": "2022-01-15T12:22:29.914628Z",
     "iopub.status.busy": "2022-01-15T12:22:29.914006Z",
     "iopub.status.idle": "2022-01-15T12:22:29.940357Z",
     "shell.execute_reply": "2022-01-15T12:22:29.939799Z",
     "shell.execute_reply.started": "2022-01-15T12:01:19.149784Z"
    },
    "papermill": {
     "duration": 0.091661,
     "end_time": "2022-01-15T12:22:29.940501",
     "exception": false,
     "start_time": "2022-01-15T12:22:29.848840",
     "status": "completed"
    },
    "tags": []
   },
   "outputs": [
    {
     "data": {
      "text/html": [
       "<div>\n",
       "<style scoped>\n",
       "    .dataframe tbody tr th:only-of-type {\n",
       "        vertical-align: middle;\n",
       "    }\n",
       "\n",
       "    .dataframe tbody tr th {\n",
       "        vertical-align: top;\n",
       "    }\n",
       "\n",
       "    .dataframe thead th {\n",
       "        text-align: right;\n",
       "    }\n",
       "</style>\n",
       "<table border=\"1\" class=\"dataframe\">\n",
       "  <thead>\n",
       "    <tr style=\"text-align: right;\">\n",
       "      <th></th>\n",
       "      <th>PassengerId</th>\n",
       "      <th>Survived</th>\n",
       "      <th>Pclass</th>\n",
       "      <th>Name</th>\n",
       "      <th>Sex</th>\n",
       "      <th>Age</th>\n",
       "      <th>SibSp</th>\n",
       "      <th>Parch</th>\n",
       "      <th>Ticket</th>\n",
       "      <th>Fare</th>\n",
       "      <th>Cabin</th>\n",
       "      <th>Embarked</th>\n",
       "      <th>Title</th>\n",
       "      <th>FamilyNum</th>\n",
       "      <th>Deck</th>\n",
       "    </tr>\n",
       "  </thead>\n",
       "  <tbody>\n",
       "    <tr>\n",
       "      <th>0</th>\n",
       "      <td>1</td>\n",
       "      <td>0.0</td>\n",
       "      <td>3</td>\n",
       "      <td>Braund, Mr. Owen Harris</td>\n",
       "      <td>0</td>\n",
       "      <td>22.0</td>\n",
       "      <td>1</td>\n",
       "      <td>0</td>\n",
       "      <td>A/5 21171</td>\n",
       "      <td>7.2500</td>\n",
       "      <td>U</td>\n",
       "      <td>S</td>\n",
       "      <td>Mr</td>\n",
       "      <td>2</td>\n",
       "      <td>U</td>\n",
       "    </tr>\n",
       "    <tr>\n",
       "      <th>1</th>\n",
       "      <td>2</td>\n",
       "      <td>1.0</td>\n",
       "      <td>1</td>\n",
       "      <td>Cumings, Mrs. John Bradley (Florence Briggs Th...</td>\n",
       "      <td>1</td>\n",
       "      <td>38.0</td>\n",
       "      <td>1</td>\n",
       "      <td>0</td>\n",
       "      <td>PC 17599</td>\n",
       "      <td>71.2833</td>\n",
       "      <td>C85</td>\n",
       "      <td>C</td>\n",
       "      <td>Mrs</td>\n",
       "      <td>2</td>\n",
       "      <td>C</td>\n",
       "    </tr>\n",
       "    <tr>\n",
       "      <th>2</th>\n",
       "      <td>3</td>\n",
       "      <td>1.0</td>\n",
       "      <td>3</td>\n",
       "      <td>Heikkinen, Miss. Laina</td>\n",
       "      <td>1</td>\n",
       "      <td>26.0</td>\n",
       "      <td>0</td>\n",
       "      <td>0</td>\n",
       "      <td>STON/O2. 3101282</td>\n",
       "      <td>7.9250</td>\n",
       "      <td>U</td>\n",
       "      <td>S</td>\n",
       "      <td>Miss</td>\n",
       "      <td>1</td>\n",
       "      <td>U</td>\n",
       "    </tr>\n",
       "    <tr>\n",
       "      <th>3</th>\n",
       "      <td>4</td>\n",
       "      <td>1.0</td>\n",
       "      <td>1</td>\n",
       "      <td>Futrelle, Mrs. Jacques Heath (Lily May Peel)</td>\n",
       "      <td>1</td>\n",
       "      <td>35.0</td>\n",
       "      <td>1</td>\n",
       "      <td>0</td>\n",
       "      <td>113803</td>\n",
       "      <td>53.1000</td>\n",
       "      <td>C123</td>\n",
       "      <td>S</td>\n",
       "      <td>Mrs</td>\n",
       "      <td>2</td>\n",
       "      <td>C</td>\n",
       "    </tr>\n",
       "    <tr>\n",
       "      <th>4</th>\n",
       "      <td>5</td>\n",
       "      <td>0.0</td>\n",
       "      <td>3</td>\n",
       "      <td>Allen, Mr. William Henry</td>\n",
       "      <td>0</td>\n",
       "      <td>35.0</td>\n",
       "      <td>0</td>\n",
       "      <td>0</td>\n",
       "      <td>373450</td>\n",
       "      <td>8.0500</td>\n",
       "      <td>U</td>\n",
       "      <td>S</td>\n",
       "      <td>Mr</td>\n",
       "      <td>1</td>\n",
       "      <td>U</td>\n",
       "    </tr>\n",
       "    <tr>\n",
       "      <th>...</th>\n",
       "      <td>...</td>\n",
       "      <td>...</td>\n",
       "      <td>...</td>\n",
       "      <td>...</td>\n",
       "      <td>...</td>\n",
       "      <td>...</td>\n",
       "      <td>...</td>\n",
       "      <td>...</td>\n",
       "      <td>...</td>\n",
       "      <td>...</td>\n",
       "      <td>...</td>\n",
       "      <td>...</td>\n",
       "      <td>...</td>\n",
       "      <td>...</td>\n",
       "      <td>...</td>\n",
       "    </tr>\n",
       "    <tr>\n",
       "      <th>1304</th>\n",
       "      <td>1305</td>\n",
       "      <td>NaN</td>\n",
       "      <td>3</td>\n",
       "      <td>Spector, Mr. Woolf</td>\n",
       "      <td>0</td>\n",
       "      <td>NaN</td>\n",
       "      <td>0</td>\n",
       "      <td>0</td>\n",
       "      <td>A.5. 3236</td>\n",
       "      <td>8.0500</td>\n",
       "      <td>U</td>\n",
       "      <td>S</td>\n",
       "      <td>Mr</td>\n",
       "      <td>1</td>\n",
       "      <td>U</td>\n",
       "    </tr>\n",
       "    <tr>\n",
       "      <th>1305</th>\n",
       "      <td>1306</td>\n",
       "      <td>NaN</td>\n",
       "      <td>1</td>\n",
       "      <td>Oliva y Ocana, Dona. Fermina</td>\n",
       "      <td>1</td>\n",
       "      <td>39.0</td>\n",
       "      <td>0</td>\n",
       "      <td>0</td>\n",
       "      <td>PC 17758</td>\n",
       "      <td>108.9000</td>\n",
       "      <td>C105</td>\n",
       "      <td>C</td>\n",
       "      <td>Royalty</td>\n",
       "      <td>1</td>\n",
       "      <td>C</td>\n",
       "    </tr>\n",
       "    <tr>\n",
       "      <th>1306</th>\n",
       "      <td>1307</td>\n",
       "      <td>NaN</td>\n",
       "      <td>3</td>\n",
       "      <td>Saether, Mr. Simon Sivertsen</td>\n",
       "      <td>0</td>\n",
       "      <td>38.5</td>\n",
       "      <td>0</td>\n",
       "      <td>0</td>\n",
       "      <td>SOTON/O.Q. 3101262</td>\n",
       "      <td>7.2500</td>\n",
       "      <td>U</td>\n",
       "      <td>S</td>\n",
       "      <td>Mr</td>\n",
       "      <td>1</td>\n",
       "      <td>U</td>\n",
       "    </tr>\n",
       "    <tr>\n",
       "      <th>1307</th>\n",
       "      <td>1308</td>\n",
       "      <td>NaN</td>\n",
       "      <td>3</td>\n",
       "      <td>Ware, Mr. Frederick</td>\n",
       "      <td>0</td>\n",
       "      <td>NaN</td>\n",
       "      <td>0</td>\n",
       "      <td>0</td>\n",
       "      <td>359309</td>\n",
       "      <td>8.0500</td>\n",
       "      <td>U</td>\n",
       "      <td>S</td>\n",
       "      <td>Mr</td>\n",
       "      <td>1</td>\n",
       "      <td>U</td>\n",
       "    </tr>\n",
       "    <tr>\n",
       "      <th>1308</th>\n",
       "      <td>1309</td>\n",
       "      <td>NaN</td>\n",
       "      <td>3</td>\n",
       "      <td>Peter, Master. Michael J</td>\n",
       "      <td>0</td>\n",
       "      <td>NaN</td>\n",
       "      <td>1</td>\n",
       "      <td>1</td>\n",
       "      <td>2668</td>\n",
       "      <td>22.3583</td>\n",
       "      <td>U</td>\n",
       "      <td>C</td>\n",
       "      <td>Master</td>\n",
       "      <td>3</td>\n",
       "      <td>U</td>\n",
       "    </tr>\n",
       "  </tbody>\n",
       "</table>\n",
       "<p>1309 rows × 15 columns</p>\n",
       "</div>"
      ],
      "text/plain": [
       "      PassengerId  Survived  Pclass  \\\n",
       "0               1       0.0       3   \n",
       "1               2       1.0       1   \n",
       "2               3       1.0       3   \n",
       "3               4       1.0       1   \n",
       "4               5       0.0       3   \n",
       "...           ...       ...     ...   \n",
       "1304         1305       NaN       3   \n",
       "1305         1306       NaN       1   \n",
       "1306         1307       NaN       3   \n",
       "1307         1308       NaN       3   \n",
       "1308         1309       NaN       3   \n",
       "\n",
       "                                                   Name  Sex   Age  SibSp  \\\n",
       "0                               Braund, Mr. Owen Harris    0  22.0      1   \n",
       "1     Cumings, Mrs. John Bradley (Florence Briggs Th...    1  38.0      1   \n",
       "2                                Heikkinen, Miss. Laina    1  26.0      0   \n",
       "3          Futrelle, Mrs. Jacques Heath (Lily May Peel)    1  35.0      1   \n",
       "4                              Allen, Mr. William Henry    0  35.0      0   \n",
       "...                                                 ...  ...   ...    ...   \n",
       "1304                                 Spector, Mr. Woolf    0   NaN      0   \n",
       "1305                       Oliva y Ocana, Dona. Fermina    1  39.0      0   \n",
       "1306                       Saether, Mr. Simon Sivertsen    0  38.5      0   \n",
       "1307                                Ware, Mr. Frederick    0   NaN      0   \n",
       "1308                           Peter, Master. Michael J    0   NaN      1   \n",
       "\n",
       "      Parch              Ticket      Fare Cabin Embarked    Title  FamilyNum  \\\n",
       "0         0           A/5 21171    7.2500     U        S       Mr          2   \n",
       "1         0            PC 17599   71.2833   C85        C      Mrs          2   \n",
       "2         0    STON/O2. 3101282    7.9250     U        S     Miss          1   \n",
       "3         0              113803   53.1000  C123        S      Mrs          2   \n",
       "4         0              373450    8.0500     U        S       Mr          1   \n",
       "...     ...                 ...       ...   ...      ...      ...        ...   \n",
       "1304      0           A.5. 3236    8.0500     U        S       Mr          1   \n",
       "1305      0            PC 17758  108.9000  C105        C  Royalty          1   \n",
       "1306      0  SOTON/O.Q. 3101262    7.2500     U        S       Mr          1   \n",
       "1307      0              359309    8.0500     U        S       Mr          1   \n",
       "1308      1                2668   22.3583     U        C   Master          3   \n",
       "\n",
       "     Deck  \n",
       "0       U  \n",
       "1       C  \n",
       "2       U  \n",
       "3       C  \n",
       "4       U  \n",
       "...   ...  \n",
       "1304    U  \n",
       "1305    C  \n",
       "1306    U  \n",
       "1307    U  \n",
       "1308    U  \n",
       "\n",
       "[1309 rows x 15 columns]"
      ]
     },
     "execution_count": 26,
     "metadata": {},
     "output_type": "execute_result"
    }
   ],
   "source": [
    "full_data"
   ]
  },
  {
   "cell_type": "code",
   "execution_count": 27,
   "id": "cdacdcda",
   "metadata": {
    "execution": {
     "iopub.execute_input": "2022-01-15T12:22:30.076131Z",
     "iopub.status.busy": "2022-01-15T12:22:30.075458Z",
     "iopub.status.idle": "2022-01-15T12:22:30.086090Z",
     "shell.execute_reply": "2022-01-15T12:22:30.085471Z",
     "shell.execute_reply.started": "2022-01-15T12:01:19.181843Z"
    },
    "papermill": {
     "duration": 0.083156,
     "end_time": "2022-01-15T12:22:30.086233",
     "exception": false,
     "start_time": "2022-01-15T12:22:30.003077",
     "status": "completed"
    },
    "tags": []
   },
   "outputs": [],
   "source": [
    "AgePre=full_data[['Age','Parch','Pclass','SibSp','Title','FamilyNum']]\n",
    "# one-hot\n",
    "AgePre=pd.get_dummies(AgePre)\n",
    "ParAge=pd.get_dummies(AgePre['Parch'],prefix='Parch')\n",
    "SibAge=pd.get_dummies(AgePre['SibSp'],prefix='SibSp')\n",
    "PclAge=pd.get_dummies(AgePre['Pclass'],prefix='Pclass')"
   ]
  },
  {
   "cell_type": "code",
   "execution_count": 28,
   "id": "bd672511",
   "metadata": {
    "execution": {
     "iopub.execute_input": "2022-01-15T12:22:30.241547Z",
     "iopub.status.busy": "2022-01-15T12:22:30.240829Z",
     "iopub.status.idle": "2022-01-15T12:22:30.250518Z",
     "shell.execute_reply": "2022-01-15T12:22:30.249839Z",
     "shell.execute_reply.started": "2022-01-15T12:01:19.195120Z"
    },
    "papermill": {
     "duration": 0.093534,
     "end_time": "2022-01-15T12:22:30.250665",
     "exception": false,
     "start_time": "2022-01-15T12:22:30.157131",
     "status": "completed"
    },
    "tags": []
   },
   "outputs": [
    {
     "data": {
      "text/plain": [
       "Pclass          -0.408106\n",
       "Title_Master    -0.385380\n",
       "Title_Miss      -0.282977\n",
       "SibSp           -0.243699\n",
       "FamilyNum       -0.240229\n",
       "Parch           -0.150917\n",
       "Title_Royalty    0.057337\n",
       "Title_Officer    0.166771\n",
       "Title_Mr         0.183965\n",
       "Title_Mrs        0.215091\n",
       "Age              1.000000\n",
       "Name: Age, dtype: float64"
      ]
     },
     "execution_count": 28,
     "metadata": {},
     "output_type": "execute_result"
    }
   ],
   "source": [
    "AgeCorrDf=pd.DataFrame()\n",
    "AgeCorrDf=AgePre.corr()\n",
    "AgeCorrDf['Age'].sort_values()"
   ]
  },
  {
   "cell_type": "code",
   "execution_count": 29,
   "id": "8ddf0d27",
   "metadata": {
    "execution": {
     "iopub.execute_input": "2022-01-15T12:22:30.386268Z",
     "iopub.status.busy": "2022-01-15T12:22:30.383385Z",
     "iopub.status.idle": "2022-01-15T12:22:30.403653Z",
     "shell.execute_reply": "2022-01-15T12:22:30.404129Z",
     "shell.execute_reply.started": "2022-01-15T12:01:19.206925Z"
    },
    "papermill": {
     "duration": 0.088098,
     "end_time": "2022-01-15T12:22:30.404305",
     "exception": false,
     "start_time": "2022-01-15T12:22:30.316207",
     "status": "completed"
    },
    "tags": []
   },
   "outputs": [
    {
     "data": {
      "text/html": [
       "<div>\n",
       "<style scoped>\n",
       "    .dataframe tbody tr th:only-of-type {\n",
       "        vertical-align: middle;\n",
       "    }\n",
       "\n",
       "    .dataframe tbody tr th {\n",
       "        vertical-align: top;\n",
       "    }\n",
       "\n",
       "    .dataframe thead th {\n",
       "        text-align: right;\n",
       "    }\n",
       "</style>\n",
       "<table border=\"1\" class=\"dataframe\">\n",
       "  <thead>\n",
       "    <tr style=\"text-align: right;\">\n",
       "      <th></th>\n",
       "      <th>Age</th>\n",
       "      <th>Parch</th>\n",
       "      <th>Pclass</th>\n",
       "      <th>SibSp</th>\n",
       "      <th>FamilyNum</th>\n",
       "      <th>Title_Master</th>\n",
       "      <th>Title_Miss</th>\n",
       "      <th>Title_Mr</th>\n",
       "      <th>Title_Mrs</th>\n",
       "      <th>Title_Officer</th>\n",
       "      <th>...</th>\n",
       "      <th>SibSp_0</th>\n",
       "      <th>SibSp_1</th>\n",
       "      <th>SibSp_2</th>\n",
       "      <th>SibSp_3</th>\n",
       "      <th>SibSp_4</th>\n",
       "      <th>SibSp_5</th>\n",
       "      <th>SibSp_8</th>\n",
       "      <th>Pclass_1</th>\n",
       "      <th>Pclass_2</th>\n",
       "      <th>Pclass_3</th>\n",
       "    </tr>\n",
       "  </thead>\n",
       "  <tbody>\n",
       "    <tr>\n",
       "      <th>0</th>\n",
       "      <td>22.0</td>\n",
       "      <td>0</td>\n",
       "      <td>3</td>\n",
       "      <td>1</td>\n",
       "      <td>2</td>\n",
       "      <td>0</td>\n",
       "      <td>0</td>\n",
       "      <td>1</td>\n",
       "      <td>0</td>\n",
       "      <td>0</td>\n",
       "      <td>...</td>\n",
       "      <td>0</td>\n",
       "      <td>1</td>\n",
       "      <td>0</td>\n",
       "      <td>0</td>\n",
       "      <td>0</td>\n",
       "      <td>0</td>\n",
       "      <td>0</td>\n",
       "      <td>0</td>\n",
       "      <td>0</td>\n",
       "      <td>1</td>\n",
       "    </tr>\n",
       "    <tr>\n",
       "      <th>1</th>\n",
       "      <td>38.0</td>\n",
       "      <td>0</td>\n",
       "      <td>1</td>\n",
       "      <td>1</td>\n",
       "      <td>2</td>\n",
       "      <td>0</td>\n",
       "      <td>0</td>\n",
       "      <td>0</td>\n",
       "      <td>1</td>\n",
       "      <td>0</td>\n",
       "      <td>...</td>\n",
       "      <td>0</td>\n",
       "      <td>1</td>\n",
       "      <td>0</td>\n",
       "      <td>0</td>\n",
       "      <td>0</td>\n",
       "      <td>0</td>\n",
       "      <td>0</td>\n",
       "      <td>1</td>\n",
       "      <td>0</td>\n",
       "      <td>0</td>\n",
       "    </tr>\n",
       "    <tr>\n",
       "      <th>2</th>\n",
       "      <td>26.0</td>\n",
       "      <td>0</td>\n",
       "      <td>3</td>\n",
       "      <td>0</td>\n",
       "      <td>1</td>\n",
       "      <td>0</td>\n",
       "      <td>1</td>\n",
       "      <td>0</td>\n",
       "      <td>0</td>\n",
       "      <td>0</td>\n",
       "      <td>...</td>\n",
       "      <td>1</td>\n",
       "      <td>0</td>\n",
       "      <td>0</td>\n",
       "      <td>0</td>\n",
       "      <td>0</td>\n",
       "      <td>0</td>\n",
       "      <td>0</td>\n",
       "      <td>0</td>\n",
       "      <td>0</td>\n",
       "      <td>1</td>\n",
       "    </tr>\n",
       "    <tr>\n",
       "      <th>3</th>\n",
       "      <td>35.0</td>\n",
       "      <td>0</td>\n",
       "      <td>1</td>\n",
       "      <td>1</td>\n",
       "      <td>2</td>\n",
       "      <td>0</td>\n",
       "      <td>0</td>\n",
       "      <td>0</td>\n",
       "      <td>1</td>\n",
       "      <td>0</td>\n",
       "      <td>...</td>\n",
       "      <td>0</td>\n",
       "      <td>1</td>\n",
       "      <td>0</td>\n",
       "      <td>0</td>\n",
       "      <td>0</td>\n",
       "      <td>0</td>\n",
       "      <td>0</td>\n",
       "      <td>1</td>\n",
       "      <td>0</td>\n",
       "      <td>0</td>\n",
       "    </tr>\n",
       "    <tr>\n",
       "      <th>4</th>\n",
       "      <td>35.0</td>\n",
       "      <td>0</td>\n",
       "      <td>3</td>\n",
       "      <td>0</td>\n",
       "      <td>1</td>\n",
       "      <td>0</td>\n",
       "      <td>0</td>\n",
       "      <td>1</td>\n",
       "      <td>0</td>\n",
       "      <td>0</td>\n",
       "      <td>...</td>\n",
       "      <td>1</td>\n",
       "      <td>0</td>\n",
       "      <td>0</td>\n",
       "      <td>0</td>\n",
       "      <td>0</td>\n",
       "      <td>0</td>\n",
       "      <td>0</td>\n",
       "      <td>0</td>\n",
       "      <td>0</td>\n",
       "      <td>1</td>\n",
       "    </tr>\n",
       "  </tbody>\n",
       "</table>\n",
       "<p>5 rows × 29 columns</p>\n",
       "</div>"
      ],
      "text/plain": [
       "    Age  Parch  Pclass  SibSp  FamilyNum  Title_Master  Title_Miss  Title_Mr  \\\n",
       "0  22.0      0       3      1          2             0           0         1   \n",
       "1  38.0      0       1      1          2             0           0         0   \n",
       "2  26.0      0       3      0          1             0           1         0   \n",
       "3  35.0      0       1      1          2             0           0         0   \n",
       "4  35.0      0       3      0          1             0           0         1   \n",
       "\n",
       "   Title_Mrs  Title_Officer  ...  SibSp_0  SibSp_1  SibSp_2  SibSp_3  SibSp_4  \\\n",
       "0          0              0  ...        0        1        0        0        0   \n",
       "1          1              0  ...        0        1        0        0        0   \n",
       "2          0              0  ...        1        0        0        0        0   \n",
       "3          1              0  ...        0        1        0        0        0   \n",
       "4          0              0  ...        1        0        0        0        0   \n",
       "\n",
       "   SibSp_5  SibSp_8  Pclass_1  Pclass_2  Pclass_3  \n",
       "0        0        0         0         0         1  \n",
       "1        0        0         1         0         0  \n",
       "2        0        0         0         0         1  \n",
       "3        0        0         1         0         0  \n",
       "4        0        0         0         0         1  \n",
       "\n",
       "[5 rows x 29 columns]"
      ]
     },
     "execution_count": 29,
     "metadata": {},
     "output_type": "execute_result"
    }
   ],
   "source": [
    "AgePre=pd.concat([AgePre,ParAge,SibAge,PclAge],axis=1)\n",
    "AgePre.head()"
   ]
  },
  {
   "cell_type": "code",
   "execution_count": 30,
   "id": "60799580",
   "metadata": {
    "execution": {
     "iopub.execute_input": "2022-01-15T12:22:30.539855Z",
     "iopub.status.busy": "2022-01-15T12:22:30.539114Z",
     "iopub.status.idle": "2022-01-15T12:22:32.381478Z",
     "shell.execute_reply": "2022-01-15T12:22:32.382052Z",
     "shell.execute_reply.started": "2022-01-15T12:01:19.228147Z"
    },
    "papermill": {
     "duration": 1.914539,
     "end_time": "2022-01-15T12:22:32.382236",
     "exception": false,
     "start_time": "2022-01-15T12:22:30.467697",
     "status": "completed"
    },
    "tags": []
   },
   "outputs": [
    {
     "data": {
      "text/plain": [
       "RandomForestRegressor(n_estimators=500, n_jobs=-1)"
      ]
     },
     "execution_count": 30,
     "metadata": {},
     "output_type": "execute_result"
    }
   ],
   "source": [
    "#拆分实验集和预测集\n",
    "AgeKnown=AgePre[AgePre['Age'].notnull()]\n",
    "AgeUnKnown=AgePre[AgePre['Age'].isnull()]\n",
    "\n",
    "#生成实验数据的特征和标签\n",
    "AgeKnown_X=AgeKnown.drop(['Age'],axis=1)\n",
    "AgeKnown_y=AgeKnown['Age']\n",
    "#生成预测数据的特征\n",
    "AgeUnKnown_X=AgeUnKnown.drop(['Age'],axis=1)\n",
    "\n",
    "#利用随机森林构建模型\n",
    "from sklearn.ensemble import RandomForestRegressor\n",
    "rfr=RandomForestRegressor(random_state=None,n_estimators=500,n_jobs=-1)\n",
    "rfr.fit(AgeKnown_X,AgeKnown_y)"
   ]
  },
  {
   "cell_type": "code",
   "execution_count": 31,
   "id": "4951ff24",
   "metadata": {
    "execution": {
     "iopub.execute_input": "2022-01-15T12:22:32.516106Z",
     "iopub.status.busy": "2022-01-15T12:22:32.515324Z",
     "iopub.status.idle": "2022-01-15T12:22:32.623082Z",
     "shell.execute_reply": "2022-01-15T12:22:32.622563Z",
     "shell.execute_reply.started": "2022-01-15T12:01:20.332413Z"
    },
    "papermill": {
     "duration": 0.177117,
     "end_time": "2022-01-15T12:22:32.623226",
     "exception": false,
     "start_time": "2022-01-15T12:22:32.446109",
     "status": "completed"
    },
    "tags": []
   },
   "outputs": [
    {
     "data": {
      "text/plain": [
       "0.5310900285476325"
      ]
     },
     "execution_count": 31,
     "metadata": {},
     "output_type": "execute_result"
    }
   ],
   "source": [
    "rfr.score(AgeKnown_X,AgeKnown_y)\n"
   ]
  },
  {
   "cell_type": "code",
   "execution_count": 32,
   "id": "f51f8145",
   "metadata": {
    "execution": {
     "iopub.execute_input": "2022-01-15T12:22:32.758023Z",
     "iopub.status.busy": "2022-01-15T12:22:32.757384Z",
     "iopub.status.idle": "2022-01-15T12:22:32.862965Z",
     "shell.execute_reply": "2022-01-15T12:22:32.862244Z",
     "shell.execute_reply.started": "2022-01-15T12:01:20.446075Z"
    },
    "papermill": {
     "duration": 0.175442,
     "end_time": "2022-01-15T12:22:32.863115",
     "exception": false,
     "start_time": "2022-01-15T12:22:32.687673",
     "status": "completed"
    },
    "tags": []
   },
   "outputs": [],
   "source": [
    "AgeUnKnown_y=rfr.predict(AgeUnKnown_X)"
   ]
  },
  {
   "cell_type": "code",
   "execution_count": 33,
   "id": "251aa76b",
   "metadata": {
    "execution": {
     "iopub.execute_input": "2022-01-15T12:22:33.008425Z",
     "iopub.status.busy": "2022-01-15T12:22:33.007705Z",
     "iopub.status.idle": "2022-01-15T12:22:33.010727Z",
     "shell.execute_reply": "2022-01-15T12:22:33.011235Z",
     "shell.execute_reply.started": "2022-01-15T12:01:20.555401Z"
    },
    "papermill": {
     "duration": 0.083617,
     "end_time": "2022-01-15T12:22:33.011432",
     "exception": false,
     "start_time": "2022-01-15T12:22:32.927815",
     "status": "completed"
    },
    "tags": []
   },
   "outputs": [
    {
     "name": "stdout",
     "output_type": "stream",
     "text": [
      "<class 'pandas.core.frame.DataFrame'>\n",
      "RangeIndex: 1309 entries, 0 to 1308\n",
      "Data columns (total 15 columns):\n",
      " #   Column       Non-Null Count  Dtype  \n",
      "---  ------       --------------  -----  \n",
      " 0   PassengerId  1309 non-null   int64  \n",
      " 1   Survived     891 non-null    float64\n",
      " 2   Pclass       1309 non-null   int64  \n",
      " 3   Name         1309 non-null   object \n",
      " 4   Sex          1309 non-null   int64  \n",
      " 5   Age          1309 non-null   float64\n",
      " 6   SibSp        1309 non-null   int64  \n",
      " 7   Parch        1309 non-null   int64  \n",
      " 8   Ticket       1309 non-null   object \n",
      " 9   Fare         1309 non-null   float64\n",
      " 10  Cabin        1309 non-null   object \n",
      " 11  Embarked     1309 non-null   object \n",
      " 12  Title        1309 non-null   object \n",
      " 13  FamilyNum    1309 non-null   int64  \n",
      " 14  Deck         1309 non-null   object \n",
      "dtypes: float64(3), int64(6), object(6)\n",
      "memory usage: 153.5+ KB\n"
     ]
    }
   ],
   "source": [
    "full_data.loc[full_data['Age'].isnull(),['Age']]=AgeUnKnown_y\n",
    "full_data.info() "
   ]
  },
  {
   "cell_type": "code",
   "execution_count": 34,
   "id": "89e8058d",
   "metadata": {
    "execution": {
     "iopub.execute_input": "2022-01-15T12:22:33.158414Z",
     "iopub.status.busy": "2022-01-15T12:22:33.153822Z",
     "iopub.status.idle": "2022-01-15T12:22:33.168726Z",
     "shell.execute_reply": "2022-01-15T12:22:33.169306Z",
     "shell.execute_reply.started": "2022-01-15T12:01:20.571672Z"
    },
    "papermill": {
     "duration": 0.09359,
     "end_time": "2022-01-15T12:22:33.169501",
     "exception": false,
     "start_time": "2022-01-15T12:22:33.075911",
     "status": "completed"
    },
    "tags": []
   },
   "outputs": [
    {
     "data": {
      "text/html": [
       "<div>\n",
       "<style scoped>\n",
       "    .dataframe tbody tr th:only-of-type {\n",
       "        vertical-align: middle;\n",
       "    }\n",
       "\n",
       "    .dataframe tbody tr th {\n",
       "        vertical-align: top;\n",
       "    }\n",
       "\n",
       "    .dataframe thead th {\n",
       "        text-align: right;\n",
       "    }\n",
       "</style>\n",
       "<table border=\"1\" class=\"dataframe\">\n",
       "  <thead>\n",
       "    <tr style=\"text-align: right;\">\n",
       "      <th></th>\n",
       "      <th>PassengerId</th>\n",
       "      <th>Survived</th>\n",
       "      <th>Pclass</th>\n",
       "      <th>Name</th>\n",
       "      <th>Sex</th>\n",
       "      <th>Age</th>\n",
       "      <th>SibSp</th>\n",
       "      <th>Parch</th>\n",
       "      <th>Ticket</th>\n",
       "      <th>Fare</th>\n",
       "      <th>Cabin</th>\n",
       "      <th>Embarked</th>\n",
       "      <th>Title</th>\n",
       "      <th>FamilyNum</th>\n",
       "      <th>Deck</th>\n",
       "    </tr>\n",
       "  </thead>\n",
       "  <tbody>\n",
       "    <tr>\n",
       "      <th>0</th>\n",
       "      <td>1</td>\n",
       "      <td>0.0</td>\n",
       "      <td>3</td>\n",
       "      <td>Braund, Mr. Owen Harris</td>\n",
       "      <td>0</td>\n",
       "      <td>22.000000</td>\n",
       "      <td>1</td>\n",
       "      <td>0</td>\n",
       "      <td>A/5 21171</td>\n",
       "      <td>7.2500</td>\n",
       "      <td>U</td>\n",
       "      <td>S</td>\n",
       "      <td>Mr</td>\n",
       "      <td>2</td>\n",
       "      <td>U</td>\n",
       "    </tr>\n",
       "    <tr>\n",
       "      <th>1</th>\n",
       "      <td>2</td>\n",
       "      <td>1.0</td>\n",
       "      <td>1</td>\n",
       "      <td>Cumings, Mrs. John Bradley (Florence Briggs Th...</td>\n",
       "      <td>1</td>\n",
       "      <td>38.000000</td>\n",
       "      <td>1</td>\n",
       "      <td>0</td>\n",
       "      <td>PC 17599</td>\n",
       "      <td>71.2833</td>\n",
       "      <td>C85</td>\n",
       "      <td>C</td>\n",
       "      <td>Mrs</td>\n",
       "      <td>2</td>\n",
       "      <td>C</td>\n",
       "    </tr>\n",
       "    <tr>\n",
       "      <th>2</th>\n",
       "      <td>3</td>\n",
       "      <td>1.0</td>\n",
       "      <td>3</td>\n",
       "      <td>Heikkinen, Miss. Laina</td>\n",
       "      <td>1</td>\n",
       "      <td>26.000000</td>\n",
       "      <td>0</td>\n",
       "      <td>0</td>\n",
       "      <td>STON/O2. 3101282</td>\n",
       "      <td>7.9250</td>\n",
       "      <td>U</td>\n",
       "      <td>S</td>\n",
       "      <td>Miss</td>\n",
       "      <td>1</td>\n",
       "      <td>U</td>\n",
       "    </tr>\n",
       "    <tr>\n",
       "      <th>3</th>\n",
       "      <td>4</td>\n",
       "      <td>1.0</td>\n",
       "      <td>1</td>\n",
       "      <td>Futrelle, Mrs. Jacques Heath (Lily May Peel)</td>\n",
       "      <td>1</td>\n",
       "      <td>35.000000</td>\n",
       "      <td>1</td>\n",
       "      <td>0</td>\n",
       "      <td>113803</td>\n",
       "      <td>53.1000</td>\n",
       "      <td>C123</td>\n",
       "      <td>S</td>\n",
       "      <td>Mrs</td>\n",
       "      <td>2</td>\n",
       "      <td>C</td>\n",
       "    </tr>\n",
       "    <tr>\n",
       "      <th>4</th>\n",
       "      <td>5</td>\n",
       "      <td>0.0</td>\n",
       "      <td>3</td>\n",
       "      <td>Allen, Mr. William Henry</td>\n",
       "      <td>0</td>\n",
       "      <td>35.000000</td>\n",
       "      <td>0</td>\n",
       "      <td>0</td>\n",
       "      <td>373450</td>\n",
       "      <td>8.0500</td>\n",
       "      <td>U</td>\n",
       "      <td>S</td>\n",
       "      <td>Mr</td>\n",
       "      <td>1</td>\n",
       "      <td>U</td>\n",
       "    </tr>\n",
       "    <tr>\n",
       "      <th>...</th>\n",
       "      <td>...</td>\n",
       "      <td>...</td>\n",
       "      <td>...</td>\n",
       "      <td>...</td>\n",
       "      <td>...</td>\n",
       "      <td>...</td>\n",
       "      <td>...</td>\n",
       "      <td>...</td>\n",
       "      <td>...</td>\n",
       "      <td>...</td>\n",
       "      <td>...</td>\n",
       "      <td>...</td>\n",
       "      <td>...</td>\n",
       "      <td>...</td>\n",
       "      <td>...</td>\n",
       "    </tr>\n",
       "    <tr>\n",
       "      <th>1304</th>\n",
       "      <td>1305</td>\n",
       "      <td>NaN</td>\n",
       "      <td>3</td>\n",
       "      <td>Spector, Mr. Woolf</td>\n",
       "      <td>0</td>\n",
       "      <td>28.477321</td>\n",
       "      <td>0</td>\n",
       "      <td>0</td>\n",
       "      <td>A.5. 3236</td>\n",
       "      <td>8.0500</td>\n",
       "      <td>U</td>\n",
       "      <td>S</td>\n",
       "      <td>Mr</td>\n",
       "      <td>1</td>\n",
       "      <td>U</td>\n",
       "    </tr>\n",
       "    <tr>\n",
       "      <th>1305</th>\n",
       "      <td>1306</td>\n",
       "      <td>NaN</td>\n",
       "      <td>1</td>\n",
       "      <td>Oliva y Ocana, Dona. Fermina</td>\n",
       "      <td>1</td>\n",
       "      <td>39.000000</td>\n",
       "      <td>0</td>\n",
       "      <td>0</td>\n",
       "      <td>PC 17758</td>\n",
       "      <td>108.9000</td>\n",
       "      <td>C105</td>\n",
       "      <td>C</td>\n",
       "      <td>Royalty</td>\n",
       "      <td>1</td>\n",
       "      <td>C</td>\n",
       "    </tr>\n",
       "    <tr>\n",
       "      <th>1306</th>\n",
       "      <td>1307</td>\n",
       "      <td>NaN</td>\n",
       "      <td>3</td>\n",
       "      <td>Saether, Mr. Simon Sivertsen</td>\n",
       "      <td>0</td>\n",
       "      <td>38.500000</td>\n",
       "      <td>0</td>\n",
       "      <td>0</td>\n",
       "      <td>SOTON/O.Q. 3101262</td>\n",
       "      <td>7.2500</td>\n",
       "      <td>U</td>\n",
       "      <td>S</td>\n",
       "      <td>Mr</td>\n",
       "      <td>1</td>\n",
       "      <td>U</td>\n",
       "    </tr>\n",
       "    <tr>\n",
       "      <th>1307</th>\n",
       "      <td>1308</td>\n",
       "      <td>NaN</td>\n",
       "      <td>3</td>\n",
       "      <td>Ware, Mr. Frederick</td>\n",
       "      <td>0</td>\n",
       "      <td>28.477321</td>\n",
       "      <td>0</td>\n",
       "      <td>0</td>\n",
       "      <td>359309</td>\n",
       "      <td>8.0500</td>\n",
       "      <td>U</td>\n",
       "      <td>S</td>\n",
       "      <td>Mr</td>\n",
       "      <td>1</td>\n",
       "      <td>U</td>\n",
       "    </tr>\n",
       "    <tr>\n",
       "      <th>1308</th>\n",
       "      <td>1309</td>\n",
       "      <td>NaN</td>\n",
       "      <td>3</td>\n",
       "      <td>Peter, Master. Michael J</td>\n",
       "      <td>0</td>\n",
       "      <td>5.766856</td>\n",
       "      <td>1</td>\n",
       "      <td>1</td>\n",
       "      <td>2668</td>\n",
       "      <td>22.3583</td>\n",
       "      <td>U</td>\n",
       "      <td>C</td>\n",
       "      <td>Master</td>\n",
       "      <td>3</td>\n",
       "      <td>U</td>\n",
       "    </tr>\n",
       "  </tbody>\n",
       "</table>\n",
       "<p>1309 rows × 15 columns</p>\n",
       "</div>"
      ],
      "text/plain": [
       "      PassengerId  Survived  Pclass  \\\n",
       "0               1       0.0       3   \n",
       "1               2       1.0       1   \n",
       "2               3       1.0       3   \n",
       "3               4       1.0       1   \n",
       "4               5       0.0       3   \n",
       "...           ...       ...     ...   \n",
       "1304         1305       NaN       3   \n",
       "1305         1306       NaN       1   \n",
       "1306         1307       NaN       3   \n",
       "1307         1308       NaN       3   \n",
       "1308         1309       NaN       3   \n",
       "\n",
       "                                                   Name  Sex        Age  \\\n",
       "0                               Braund, Mr. Owen Harris    0  22.000000   \n",
       "1     Cumings, Mrs. John Bradley (Florence Briggs Th...    1  38.000000   \n",
       "2                                Heikkinen, Miss. Laina    1  26.000000   \n",
       "3          Futrelle, Mrs. Jacques Heath (Lily May Peel)    1  35.000000   \n",
       "4                              Allen, Mr. William Henry    0  35.000000   \n",
       "...                                                 ...  ...        ...   \n",
       "1304                                 Spector, Mr. Woolf    0  28.477321   \n",
       "1305                       Oliva y Ocana, Dona. Fermina    1  39.000000   \n",
       "1306                       Saether, Mr. Simon Sivertsen    0  38.500000   \n",
       "1307                                Ware, Mr. Frederick    0  28.477321   \n",
       "1308                           Peter, Master. Michael J    0   5.766856   \n",
       "\n",
       "      SibSp  Parch              Ticket      Fare Cabin Embarked    Title  \\\n",
       "0         1      0           A/5 21171    7.2500     U        S       Mr   \n",
       "1         1      0            PC 17599   71.2833   C85        C      Mrs   \n",
       "2         0      0    STON/O2. 3101282    7.9250     U        S     Miss   \n",
       "3         1      0              113803   53.1000  C123        S      Mrs   \n",
       "4         0      0              373450    8.0500     U        S       Mr   \n",
       "...     ...    ...                 ...       ...   ...      ...      ...   \n",
       "1304      0      0           A.5. 3236    8.0500     U        S       Mr   \n",
       "1305      0      0            PC 17758  108.9000  C105        C  Royalty   \n",
       "1306      0      0  SOTON/O.Q. 3101262    7.2500     U        S       Mr   \n",
       "1307      0      0              359309    8.0500     U        S       Mr   \n",
       "1308      1      1                2668   22.3583     U        C   Master   \n",
       "\n",
       "      FamilyNum Deck  \n",
       "0             2    U  \n",
       "1             2    C  \n",
       "2             1    U  \n",
       "3             2    C  \n",
       "4             1    U  \n",
       "...         ...  ...  \n",
       "1304          1    U  \n",
       "1305          1    C  \n",
       "1306          1    U  \n",
       "1307          1    U  \n",
       "1308          3    U  \n",
       "\n",
       "[1309 rows x 15 columns]"
      ]
     },
     "execution_count": 34,
     "metadata": {},
     "output_type": "execute_result"
    }
   ],
   "source": [
    "full_data"
   ]
  },
  {
   "cell_type": "code",
   "execution_count": 35,
   "id": "32655a84",
   "metadata": {
    "execution": {
     "iopub.execute_input": "2022-01-15T12:22:33.310404Z",
     "iopub.status.busy": "2022-01-15T12:22:33.305703Z",
     "iopub.status.idle": "2022-01-15T12:22:33.316362Z",
     "shell.execute_reply": "2022-01-15T12:22:33.315821Z",
     "shell.execute_reply.started": "2022-01-15T12:01:20.602506Z"
    },
    "papermill": {
     "duration": 0.082302,
     "end_time": "2022-01-15T12:22:33.316506",
     "exception": false,
     "start_time": "2022-01-15T12:22:33.234204",
     "status": "completed"
    },
    "tags": []
   },
   "outputs": [],
   "source": [
    "fullSel=full_data.drop(['Cabin','Name','Ticket','PassengerId'],axis=1)\n",
    "corrDf=pd.DataFrame()\n",
    "corrDf=fullSel.corr()\n",
    "corrDf['Survived'].sort_values(ascending=True)\n",
    "fullSel=fullSel.drop(['SibSp','Parch'],axis=1)\n",
    "fullSel=pd.get_dummies(fullSel)"
   ]
  },
  {
   "cell_type": "code",
   "execution_count": 36,
   "id": "3cfe58fc",
   "metadata": {
    "execution": {
     "iopub.execute_input": "2022-01-15T12:22:33.450546Z",
     "iopub.status.busy": "2022-01-15T12:22:33.449793Z",
     "iopub.status.idle": "2022-01-15T12:22:33.475249Z",
     "shell.execute_reply": "2022-01-15T12:22:33.474556Z",
     "shell.execute_reply.started": "2022-01-15T12:01:20.621564Z"
    },
    "papermill": {
     "duration": 0.09332,
     "end_time": "2022-01-15T12:22:33.475428",
     "exception": false,
     "start_time": "2022-01-15T12:22:33.382108",
     "status": "completed"
    },
    "tags": []
   },
   "outputs": [],
   "source": [
    "#拆分实验数据与预测数据\n",
    "experData=fullSel[fullSel['Survived'].notnull()]\n",
    "preData=fullSel[fullSel['Survived'].isnull()]\n",
    "\n",
    "experData_X=experData.drop('Survived',axis=1)\n",
    "experData_y=experData['Survived']\n",
    "preData_X=preData.drop('Survived',axis=1)\n",
    "\n",
    "#导入机器学习算法库\n",
    "from sklearn.ensemble import RandomForestClassifier,GradientBoostingClassifier,ExtraTreesClassifier\n",
    "from sklearn.discriminant_analysis import LinearDiscriminantAnalysis\n",
    "from sklearn.linear_model import LogisticRegression\n",
    "from sklearn.neighbors import KNeighborsClassifier\n",
    "from sklearn.tree import DecisionTreeClassifier\n",
    "from sklearn.svm import SVC\n",
    "from sklearn.model_selection import GridSearchCV,cross_val_score,StratifiedKFold\n",
    "\n",
    "#设置kfold，交叉采样法拆分数据集\n",
    "kfold=StratifiedKFold(n_splits=10)\n",
    "\n",
    "#汇总不同模型算法\n",
    "classifiers=[]\n",
    "classifiers.append(SVC())\n",
    "classifiers.append(DecisionTreeClassifier())\n",
    "classifiers.append(RandomForestClassifier())\n",
    "classifiers.append(ExtraTreesClassifier())\n",
    "classifiers.append(GradientBoostingClassifier())\n",
    "classifiers.append(KNeighborsClassifier())\n",
    "classifiers.append(LogisticRegression())\n",
    "classifiers.append(LinearDiscriminantAnalysis())"
   ]
  },
  {
   "cell_type": "code",
   "execution_count": 37,
   "id": "553b3d9f",
   "metadata": {
    "execution": {
     "iopub.execute_input": "2022-01-15T12:22:33.608528Z",
     "iopub.status.busy": "2022-01-15T12:22:33.607542Z",
     "iopub.status.idle": "2022-01-15T12:22:39.488106Z",
     "shell.execute_reply": "2022-01-15T12:22:39.487376Z",
     "shell.execute_reply.started": "2022-01-15T12:01:20.636820Z"
    },
    "papermill": {
     "duration": 5.948241,
     "end_time": "2022-01-15T12:22:39.488260",
     "exception": false,
     "start_time": "2022-01-15T12:22:33.540019",
     "status": "completed"
    },
    "tags": []
   },
   "outputs": [],
   "source": [
    "cv_results=[]\n",
    "for classifier in classifiers:\n",
    "    cv_results.append(cross_val_score(classifier,experData_X,experData_y,\n",
    "                                      scoring='accuracy',cv=kfold,n_jobs=-1))"
   ]
  },
  {
   "cell_type": "code",
   "execution_count": 38,
   "id": "663af0b0",
   "metadata": {
    "execution": {
     "iopub.execute_input": "2022-01-15T12:22:39.637596Z",
     "iopub.status.busy": "2022-01-15T12:22:39.636858Z",
     "iopub.status.idle": "2022-01-15T12:22:39.639585Z",
     "shell.execute_reply": "2022-01-15T12:22:39.640065Z",
     "shell.execute_reply.started": "2022-01-15T12:01:23.268133Z"
    },
    "papermill": {
     "duration": 0.084044,
     "end_time": "2022-01-15T12:22:39.640237",
     "exception": false,
     "start_time": "2022-01-15T12:22:39.556193",
     "status": "completed"
    },
    "tags": []
   },
   "outputs": [
    {
     "data": {
      "text/html": [
       "<div>\n",
       "<style scoped>\n",
       "    .dataframe tbody tr th:only-of-type {\n",
       "        vertical-align: middle;\n",
       "    }\n",
       "\n",
       "    .dataframe tbody tr th {\n",
       "        vertical-align: top;\n",
       "    }\n",
       "\n",
       "    .dataframe thead th {\n",
       "        text-align: right;\n",
       "    }\n",
       "</style>\n",
       "<table border=\"1\" class=\"dataframe\">\n",
       "  <thead>\n",
       "    <tr style=\"text-align: right;\">\n",
       "      <th></th>\n",
       "      <th>cv_mean</th>\n",
       "      <th>cv_std</th>\n",
       "      <th>algorithm</th>\n",
       "    </tr>\n",
       "  </thead>\n",
       "  <tbody>\n",
       "    <tr>\n",
       "      <th>0</th>\n",
       "      <td>0.680225</td>\n",
       "      <td>0.052778</td>\n",
       "      <td>SVC</td>\n",
       "    </tr>\n",
       "    <tr>\n",
       "      <th>1</th>\n",
       "      <td>0.767690</td>\n",
       "      <td>0.047073</td>\n",
       "      <td>DecisionTreeCla</td>\n",
       "    </tr>\n",
       "    <tr>\n",
       "      <th>2</th>\n",
       "      <td>0.813733</td>\n",
       "      <td>0.043362</td>\n",
       "      <td>RandomForestCla</td>\n",
       "    </tr>\n",
       "    <tr>\n",
       "      <th>3</th>\n",
       "      <td>0.804757</td>\n",
       "      <td>0.036714</td>\n",
       "      <td>ExtraTreesCla</td>\n",
       "    </tr>\n",
       "    <tr>\n",
       "      <th>4</th>\n",
       "      <td>0.833933</td>\n",
       "      <td>0.041794</td>\n",
       "      <td>GradientBoostingCla</td>\n",
       "    </tr>\n",
       "    <tr>\n",
       "      <th>5</th>\n",
       "      <td>0.722809</td>\n",
       "      <td>0.025325</td>\n",
       "      <td>KNN</td>\n",
       "    </tr>\n",
       "    <tr>\n",
       "      <th>6</th>\n",
       "      <td>NaN</td>\n",
       "      <td>NaN</td>\n",
       "      <td>LR</td>\n",
       "    </tr>\n",
       "    <tr>\n",
       "      <th>7</th>\n",
       "      <td>0.831698</td>\n",
       "      <td>0.033398</td>\n",
       "      <td>LinearDiscrimiAna</td>\n",
       "    </tr>\n",
       "  </tbody>\n",
       "</table>\n",
       "</div>"
      ],
      "text/plain": [
       "    cv_mean    cv_std            algorithm\n",
       "0  0.680225  0.052778                  SVC\n",
       "1  0.767690  0.047073      DecisionTreeCla\n",
       "2  0.813733  0.043362      RandomForestCla\n",
       "3  0.804757  0.036714        ExtraTreesCla\n",
       "4  0.833933  0.041794  GradientBoostingCla\n",
       "5  0.722809  0.025325                  KNN\n",
       "6       NaN       NaN                   LR\n",
       "7  0.831698  0.033398    LinearDiscrimiAna"
      ]
     },
     "execution_count": 38,
     "metadata": {},
     "output_type": "execute_result"
    }
   ],
   "source": [
    "#求出模型得分的均值和标准差\n",
    "cv_means=[]\n",
    "cv_std=[]\n",
    "for cv_result in cv_results:\n",
    "    cv_means.append(cv_result.mean())\n",
    "    cv_std.append(cv_result.std())\n",
    "    \n",
    "#汇总数据\n",
    "cvResDf=pd.DataFrame({'cv_mean':cv_means,\n",
    "                     'cv_std':cv_std,\n",
    "                     'algorithm':['SVC','DecisionTreeCla','RandomForestCla','ExtraTreesCla',\n",
    "                                  'GradientBoostingCla','KNN','LR','LinearDiscrimiAna']})\n",
    "\n",
    "cvResDf"
   ]
  },
  {
   "cell_type": "code",
   "execution_count": 39,
   "id": "c5a83083",
   "metadata": {
    "execution": {
     "iopub.execute_input": "2022-01-15T12:22:39.777585Z",
     "iopub.status.busy": "2022-01-15T12:22:39.776870Z",
     "iopub.status.idle": "2022-01-15T12:22:40.318732Z",
     "shell.execute_reply": "2022-01-15T12:22:40.318079Z",
     "shell.execute_reply.started": "2022-01-15T12:01:23.282970Z"
    },
    "papermill": {
     "duration": 0.61297,
     "end_time": "2022-01-15T12:22:40.318871",
     "exception": false,
     "start_time": "2022-01-15T12:22:39.705901",
     "status": "completed"
    },
    "tags": []
   },
   "outputs": [
    {
     "name": "stderr",
     "output_type": "stream",
     "text": [
      "/opt/conda/lib/python3.7/site-packages/seaborn/axisgrid.py:670: UserWarning: Using the barplot function without specifying `order` is likely to produce an incorrect plot.\n",
      "  warnings.warn(warning)\n",
      "/opt/conda/lib/python3.7/site-packages/numpy/core/_methods.py:43: RuntimeWarning: invalid value encountered in reduce\n",
      "  return umr_minimum(a, axis, None, out, keepdims, initial, where)\n",
      "/opt/conda/lib/python3.7/site-packages/numpy/core/_methods.py:39: RuntimeWarning: invalid value encountered in reduce\n",
      "  return umr_maximum(a, axis, None, out, keepdims, initial, where)\n"
     ]
    },
    {
     "data": {
      "text/plain": [
       "<seaborn.axisgrid.FacetGrid at 0x7ff65cccf910>"
      ]
     },
     "execution_count": 39,
     "metadata": {},
     "output_type": "execute_result"
    },
    {
     "data": {
      "image/png": "[encoded data removed]",
      "text/plain": [
       "<Figure size 440.8x216 with 1 Axes>"
      ]
     },
     "metadata": {},
     "output_type": "display_data"
    }
   ],
   "source": [
    "# sns.barplot(data=cvResDf,x='cv_mean',y='algorithm',**{'xerr':cv_std})\n",
    "\n",
    "cvResFacet=sns.FacetGrid(cvResDf.sort_values(by='cv_mean',ascending=False),sharex=False,\n",
    "            sharey=False,aspect=2)\n",
    "cvResFacet.map(sns.barplot,'cv_mean','algorithm',**{'xerr':cv_std},\n",
    "               palette='muted')\n",
    "cvResFacet.set(xlim=(0.7,0.9))\n",
    "cvResFacet.add_legend()"
   ]
  },
  {
   "cell_type": "code",
   "execution_count": 40,
   "id": "dd72cd55",
   "metadata": {
    "execution": {
     "iopub.execute_input": "2022-01-15T12:22:40.456621Z",
     "iopub.status.busy": "2022-01-15T12:22:40.455916Z",
     "iopub.status.idle": "2022-01-15T12:23:19.253701Z",
     "shell.execute_reply": "2022-01-15T12:23:19.253111Z",
     "shell.execute_reply.started": "2022-01-15T12:01:23.758740Z"
    },
    "papermill": {
     "duration": 38.867807,
     "end_time": "2022-01-15T12:23:19.253855",
     "exception": false,
     "start_time": "2022-01-15T12:22:40.386048",
     "status": "completed"
    },
    "tags": []
   },
   "outputs": [
    {
     "name": "stdout",
     "output_type": "stream",
     "text": [
      "Fitting 10 folds for each of 72 candidates, totalling 720 fits\n"
     ]
    },
    {
     "name": "stderr",
     "output_type": "stream",
     "text": [
      "[Parallel(n_jobs=-1)]: Using backend LokyBackend with 4 concurrent workers.\n",
      "[Parallel(n_jobs=-1)]: Done  76 tasks      | elapsed:    4.2s\n",
      "[Parallel(n_jobs=-1)]: Done 376 tasks      | elapsed:   19.9s\n",
      "[Parallel(n_jobs=-1)]: Done 720 out of 720 | elapsed:   38.5s finished\n"
     ]
    },
    {
     "data": {
      "text/plain": [
       "GridSearchCV(cv=StratifiedKFold(n_splits=10, random_state=None, shuffle=False),\n",
       "             estimator=GradientBoostingClassifier(), n_jobs=-1,\n",
       "             param_grid={'learning_rate': [0.1, 0.05, 0.01],\n",
       "                         'loss': ['deviance'], 'max_depth': [4, 8],\n",
       "                         'max_features': [0.3, 0.1],\n",
       "                         'min_samples_leaf': [100, 150],\n",
       "                         'n_estimators': [100, 200, 300]},\n",
       "             scoring='accuracy', verbose=1)"
      ]
     },
     "execution_count": 40,
     "metadata": {},
     "output_type": "execute_result"
    }
   ],
   "source": [
    "#GradientBoostingClassifier模型\n",
    "GBC = GradientBoostingClassifier()\n",
    "gb_param_grid = {'loss' : [\"deviance\"],\n",
    "              'n_estimators' : [100,200,300],\n",
    "              'learning_rate': [0.1, 0.05, 0.01],\n",
    "              'max_depth': [4, 8],\n",
    "              'min_samples_leaf': [100,150],\n",
    "              'max_features': [0.3, 0.1] \n",
    "              }\n",
    "modelgsGBC = GridSearchCV(GBC,param_grid = gb_param_grid, cv=kfold, \n",
    "                                     scoring=\"accuracy\", n_jobs= -1, verbose = 1)\n",
    "modelgsGBC.fit(experData_X,experData_y)\n",
    "\n"
   ]
  },
  {
   "cell_type": "code",
   "execution_count": 41,
   "id": "cc067170",
   "metadata": {
    "execution": {
     "iopub.execute_input": "2022-01-15T12:23:19.397448Z",
     "iopub.status.busy": "2022-01-15T12:23:19.396752Z",
     "iopub.status.idle": "2022-01-15T12:23:19.750234Z",
     "shell.execute_reply": "2022-01-15T12:23:19.750732Z",
     "shell.execute_reply.started": "2022-01-15T12:01:58.442046Z"
    },
    "papermill": {
     "duration": 0.428657,
     "end_time": "2022-01-15T12:23:19.750910",
     "exception": false,
     "start_time": "2022-01-15T12:23:19.322253",
     "status": "completed"
    },
    "tags": []
   },
   "outputs": [
    {
     "name": "stdout",
     "output_type": "stream",
     "text": [
      "Fitting 10 folds for each of 6 candidates, totalling 60 fits\n"
     ]
    },
    {
     "name": "stderr",
     "output_type": "stream",
     "text": [
      "[Parallel(n_jobs=-1)]: Using backend LokyBackend with 4 concurrent workers.\n",
      "[Parallel(n_jobs=-1)]: Done  53 out of  60 | elapsed:    0.3s remaining:    0.0s\n",
      "[Parallel(n_jobs=-1)]: Done  60 out of  60 | elapsed:    0.3s finished\n"
     ]
    },
    {
     "data": {
      "text/plain": [
       "GridSearchCV(cv=StratifiedKFold(n_splits=10, random_state=None, shuffle=False),\n",
       "             estimator=LogisticRegression(), n_jobs=-1,\n",
       "             param_grid={'C': [1, 2, 3], 'penalty': ['l1', 'l2'],\n",
       "                         'solver': ['liblinear']},\n",
       "             scoring='accuracy', verbose=1)"
      ]
     },
     "execution_count": 41,
     "metadata": {},
     "output_type": "execute_result"
    }
   ],
   "source": [
    "#LogisticRegression模型\n",
    "modelLR=LogisticRegression()\n",
    "LR_param_grid = {'C' : [1,2,3],\n",
    "                'penalty':['l1','l2'],'solver':['liblinear']}\n",
    "\n",
    "modelgsLR = GridSearchCV(modelLR,param_grid = LR_param_grid, cv=kfold, \n",
    "                                     scoring=\"accuracy\", n_jobs= -1, verbose = 1)\n",
    "modelgsLR.fit(experData_X,experData_y)"
   ]
  },
  {
   "cell_type": "code",
   "execution_count": 42,
   "id": "1d6fc67a",
   "metadata": {
    "execution": {
     "iopub.execute_input": "2022-01-15T12:23:19.898691Z",
     "iopub.status.busy": "2022-01-15T12:23:19.897977Z",
     "iopub.status.idle": "2022-01-15T12:23:19.901538Z",
     "shell.execute_reply": "2022-01-15T12:23:19.902265Z",
     "shell.execute_reply.started": "2022-01-15T12:01:58.779718Z"
    },
    "papermill": {
     "duration": 0.080823,
     "end_time": "2022-01-15T12:23:19.902521",
     "exception": false,
     "start_time": "2022-01-15T12:23:19.821698",
     "status": "completed"
    },
    "tags": []
   },
   "outputs": [
    {
     "name": "stdout",
     "output_type": "stream",
     "text": [
      "modelgsGBC模型得分为：0.832\n",
      "modelgsLR模型得分为：0.828\n"
     ]
    }
   ],
   "source": [
    "#modelgsGBC模型\n",
    "print('modelgsGBC模型得分为：%.3f'%modelgsGBC.best_score_)\n",
    "#modelgsLR模型\n",
    "print('modelgsLR模型得分为：%.3f'%modelgsLR.best_score_)\n"
   ]
  },
  {
   "cell_type": "code",
   "execution_count": 43,
   "id": "18b63ea9",
   "metadata": {
    "execution": {
     "iopub.execute_input": "2022-01-15T12:23:20.056247Z",
     "iopub.status.busy": "2022-01-15T12:23:20.055558Z",
     "iopub.status.idle": "2022-01-15T12:23:20.330244Z",
     "shell.execute_reply": "2022-01-15T12:23:20.329705Z",
     "shell.execute_reply.started": "2022-01-15T12:01:58.786377Z"
    },
    "papermill": {
     "duration": 0.356654,
     "end_time": "2022-01-15T12:23:20.330407",
     "exception": false,
     "start_time": "2022-01-15T12:23:19.973753",
     "status": "completed"
    },
    "tags": []
   },
   "outputs": [
    {
     "data": {
      "text/plain": [
       "<Figure size 432x288 with 0 Axes>"
      ]
     },
     "metadata": {},
     "output_type": "display_data"
    },
    {
     "data": {
      "image/png": "[encoded data removed]",
      "text/plain": [
       "<Figure size 720x720 with 1 Axes>"
      ]
     },
     "metadata": {},
     "output_type": "display_data"
    }
   ],
   "source": [
    "#查看模型ROC曲线\n",
    "#求出测试数据模型的预测值\n",
    "modelgsGBCtestpre_y=modelgsGBC.predict(experData_X).astype(int)\n",
    "#画图\n",
    "from sklearn.metrics import roc_curve, auc  ###计算roc和auc\n",
    "# Compute ROC curve and ROC area for each class\n",
    "fpr,tpr,threshold = roc_curve(experData_y, modelgsGBCtestpre_y) ###计算真正率和假正率\n",
    "roc_auc = auc(fpr,tpr) ###计算auc的值\n",
    "\n",
    "plt.figure()\n",
    "lw = 2\n",
    "plt.figure(figsize=(10,10))\n",
    "plt.plot(fpr, tpr, color='r',\n",
    "         lw=lw, label='ROC curve (area = %0.3f)' % roc_auc) ###假正率为横坐标，真正率为纵坐标做曲线\n",
    "plt.plot([0, 1], [0, 1], color='navy', lw=lw, linestyle='--')\n",
    "plt.xlim([0.0, 1.0])\n",
    "plt.ylim([0.0, 1.0])\n",
    "plt.xlabel('False Positive Rate')\n",
    "plt.ylabel('True Positive Rate')\n",
    "plt.title('Titanic GradientBoostingClassifier Model')\n",
    "plt.legend(loc=\"lower right\")\n",
    "plt.show()\n",
    "\n",
    "\n"
   ]
  },
  {
   "cell_type": "code",
   "execution_count": 44,
   "id": "330b1b39",
   "metadata": {
    "execution": {
     "iopub.execute_input": "2022-01-15T12:23:20.483886Z",
     "iopub.status.busy": "2022-01-15T12:23:20.483098Z",
     "iopub.status.idle": "2022-01-15T12:23:20.767509Z",
     "shell.execute_reply": "2022-01-15T12:23:20.766806Z",
     "shell.execute_reply.started": "2022-01-15T12:12:04.022375Z"
    },
    "papermill": {
     "duration": 0.364884,
     "end_time": "2022-01-15T12:23:20.767656",
     "exception": false,
     "start_time": "2022-01-15T12:23:20.402772",
     "status": "completed"
    },
    "tags": []
   },
   "outputs": [
    {
     "data": {
      "text/plain": [
       "<Figure size 432x288 with 0 Axes>"
      ]
     },
     "metadata": {},
     "output_type": "display_data"
    },
    {
     "data": {
      "image/png": "[encoded data removed]",
      "text/plain": [
       "<Figure size 720x720 with 1 Axes>"
      ]
     },
     "metadata": {},
     "output_type": "display_data"
    }
   ],
   "source": [
    "modelgsLRtestpre_y=modelgsLR.predict(experData_X).astype(int)\n",
    "#画图\n",
    "from sklearn.metrics import roc_curve, auc  ###计算roc和auc\n",
    "# Compute ROC curve and ROC area for each class\n",
    "fpr,tpr,threshold = roc_curve(experData_y, modelgsLRtestpre_y) ###计算真正率和假正率\n",
    "roc_auc = auc(fpr,tpr) ###计算auc的值\n",
    "\n",
    "plt.figure()\n",
    "lw = 2\n",
    "plt.figure(figsize=(10,10))\n",
    "plt.plot(fpr, tpr, color='r',\n",
    "         lw=lw, label='ROC curve (area = %0.3f)' % roc_auc) ###假正率为横坐标，真正率为纵坐标做曲线\n",
    "plt.plot([0, 1], [0, 1], color='navy', lw=lw, linestyle='--')\n",
    "plt.xlim([0.0, 1.0])\n",
    "plt.ylim([0.0, 1.0])\n",
    "plt.xlabel('False Positive Rate')\n",
    "plt.ylabel('True Positive Rate')\n",
    "plt.title('Titanic GradientBoostingClassifier Model')\n",
    "plt.legend(loc=\"lower right\")\n",
    "plt.show()"
   ]
  },
  {
   "cell_type": "code",
   "execution_count": 45,
   "id": "ac5a9a7c",
   "metadata": {
    "execution": {
     "iopub.execute_input": "2022-01-15T12:23:20.921567Z",
     "iopub.status.busy": "2022-01-15T12:23:20.920549Z",
     "iopub.status.idle": "2022-01-15T12:23:20.945087Z",
     "shell.execute_reply": "2022-01-15T12:23:20.945620Z",
     "shell.execute_reply.started": "2022-01-15T12:12:28.464620Z"
    },
    "papermill": {
     "duration": 0.10387,
     "end_time": "2022-01-15T12:23:20.945805",
     "exception": false,
     "start_time": "2022-01-15T12:23:20.841935",
     "status": "completed"
    },
    "tags": []
   },
   "outputs": [
    {
     "name": "stdout",
     "output_type": "stream",
     "text": [
      "GradientBoostingClassifier模型混淆矩阵为\n",
      " [[505  44]\n",
      " [ 73 269]]\n",
      "LinearRegression模型混淆矩阵为\n",
      " [[482  67]\n",
      " [ 78 264]]\n"
     ]
    }
   ],
   "source": [
    "from sklearn.metrics import confusion_matrix\n",
    "print('GradientBoostingClassifier模型混淆矩阵为\\n',confusion_matrix(experData_y.astype(int).astype(str),modelgsGBCtestpre_y.astype(str)))\n",
    "print('LinearRegression模型混淆矩阵为\\n',confusion_matrix(experData_y.astype(int).astype(str),modelgsLRtestpre_y.astype(str)))\n"
   ]
  },
  {
   "cell_type": "code",
   "execution_count": 46,
   "id": "85cde6a4",
   "metadata": {
    "execution": {
     "iopub.execute_input": "2022-01-15T12:23:21.102041Z",
     "iopub.status.busy": "2022-01-15T12:23:21.101015Z",
     "iopub.status.idle": "2022-01-15T12:23:21.120581Z",
     "shell.execute_reply": "2022-01-15T12:23:21.121027Z",
     "shell.execute_reply.started": "2022-01-15T12:12:41.563192Z"
    },
    "papermill": {
     "duration": 0.098366,
     "end_time": "2022-01-15T12:23:21.121198",
     "exception": false,
     "start_time": "2022-01-15T12:23:21.022832",
     "status": "completed"
    },
    "tags": []
   },
   "outputs": [
    {
     "data": {
      "text/html": [
       "<div>\n",
       "<style scoped>\n",
       "    .dataframe tbody tr th:only-of-type {\n",
       "        vertical-align: middle;\n",
       "    }\n",
       "\n",
       "    .dataframe tbody tr th {\n",
       "        vertical-align: top;\n",
       "    }\n",
       "\n",
       "    .dataframe thead th {\n",
       "        text-align: right;\n",
       "    }\n",
       "</style>\n",
       "<table border=\"1\" class=\"dataframe\">\n",
       "  <thead>\n",
       "    <tr style=\"text-align: right;\">\n",
       "      <th></th>\n",
       "      <th>PassengerId</th>\n",
       "      <th>Survived</th>\n",
       "    </tr>\n",
       "  </thead>\n",
       "  <tbody>\n",
       "    <tr>\n",
       "      <th>891</th>\n",
       "      <td>892</td>\n",
       "      <td>0</td>\n",
       "    </tr>\n",
       "    <tr>\n",
       "      <th>892</th>\n",
       "      <td>893</td>\n",
       "      <td>0</td>\n",
       "    </tr>\n",
       "    <tr>\n",
       "      <th>893</th>\n",
       "      <td>894</td>\n",
       "      <td>0</td>\n",
       "    </tr>\n",
       "    <tr>\n",
       "      <th>894</th>\n",
       "      <td>895</td>\n",
       "      <td>0</td>\n",
       "    </tr>\n",
       "    <tr>\n",
       "      <th>895</th>\n",
       "      <td>896</td>\n",
       "      <td>1</td>\n",
       "    </tr>\n",
       "    <tr>\n",
       "      <th>...</th>\n",
       "      <td>...</td>\n",
       "      <td>...</td>\n",
       "    </tr>\n",
       "    <tr>\n",
       "      <th>1304</th>\n",
       "      <td>1305</td>\n",
       "      <td>0</td>\n",
       "    </tr>\n",
       "    <tr>\n",
       "      <th>1305</th>\n",
       "      <td>1306</td>\n",
       "      <td>1</td>\n",
       "    </tr>\n",
       "    <tr>\n",
       "      <th>1306</th>\n",
       "      <td>1307</td>\n",
       "      <td>0</td>\n",
       "    </tr>\n",
       "    <tr>\n",
       "      <th>1307</th>\n",
       "      <td>1308</td>\n",
       "      <td>0</td>\n",
       "    </tr>\n",
       "    <tr>\n",
       "      <th>1308</th>\n",
       "      <td>1309</td>\n",
       "      <td>1</td>\n",
       "    </tr>\n",
       "  </tbody>\n",
       "</table>\n",
       "<p>418 rows × 2 columns</p>\n",
       "</div>"
      ],
      "text/plain": [
       "      PassengerId  Survived\n",
       "891           892         0\n",
       "892           893         0\n",
       "893           894         0\n",
       "894           895         0\n",
       "895           896         1\n",
       "...           ...       ...\n",
       "1304         1305         0\n",
       "1305         1306         1\n",
       "1306         1307         0\n",
       "1307         1308         0\n",
       "1308         1309         1\n",
       "\n",
       "[418 rows x 2 columns]"
      ]
     },
     "execution_count": 46,
     "metadata": {},
     "output_type": "execute_result"
    }
   ],
   "source": [
    "#TitanicGBSmodle\n",
    "GBCpreData_y=modelgsGBC.predict(preData_X)\n",
    "GBCpreData_y=GBCpreData_y.astype(int)\n",
    "#导出预测结果\n",
    "GBCpreResultDf=pd.DataFrame()\n",
    "GBCpreResultDf['PassengerId']=full_data['PassengerId'][full_data['Survived'].isnull()]\n",
    "GBCpreResultDf['Survived']=GBCpreData_y\n",
    "GBCpreResultDf"
   ]
  },
  {
   "cell_type": "code",
   "execution_count": 47,
   "id": "edc1a15a",
   "metadata": {
    "execution": {
     "iopub.execute_input": "2022-01-15T12:23:21.278116Z",
     "iopub.status.busy": "2022-01-15T12:23:21.277149Z",
     "iopub.status.idle": "2022-01-15T12:23:21.280028Z",
     "shell.execute_reply": "2022-01-15T12:23:21.279438Z",
     "shell.execute_reply.started": "2022-01-15T12:15:40.438637Z"
    },
    "papermill": {
     "duration": 0.083765,
     "end_time": "2022-01-15T12:23:21.280163",
     "exception": false,
     "start_time": "2022-01-15T12:23:21.196398",
     "status": "completed"
    },
    "tags": []
   },
   "outputs": [],
   "source": [
    "submission = pd.DataFrame({\n",
    "        \"PassengerId\": GBCpreResultDf[\"PassengerId\"],\n",
    "        \"Survived\": GBCpreData_y\n",
    "    })"
   ]
  },
  {
   "cell_type": "code",
   "execution_count": 48,
   "id": "b610570e",
   "metadata": {
    "execution": {
     "iopub.execute_input": "2022-01-15T12:23:21.443101Z",
     "iopub.status.busy": "2022-01-15T12:23:21.442428Z",
     "iopub.status.idle": "2022-01-15T12:23:21.445049Z",
     "shell.execute_reply": "2022-01-15T12:23:21.445568Z",
     "shell.execute_reply.started": "2022-01-15T12:15:45.192518Z"
    },
    "papermill": {
     "duration": 0.090197,
     "end_time": "2022-01-15T12:23:21.445745",
     "exception": false,
     "start_time": "2022-01-15T12:23:21.355548",
     "status": "completed"
    },
    "tags": []
   },
   "outputs": [
    {
     "data": {
      "text/html": [
       "<div>\n",
       "<style scoped>\n",
       "    .dataframe tbody tr th:only-of-type {\n",
       "        vertical-align: middle;\n",
       "    }\n",
       "\n",
       "    .dataframe tbody tr th {\n",
       "        vertical-align: top;\n",
       "    }\n",
       "\n",
       "    .dataframe thead th {\n",
       "        text-align: right;\n",
       "    }\n",
       "</style>\n",
       "<table border=\"1\" class=\"dataframe\">\n",
       "  <thead>\n",
       "    <tr style=\"text-align: right;\">\n",
       "      <th></th>\n",
       "      <th>PassengerId</th>\n",
       "      <th>Survived</th>\n",
       "    </tr>\n",
       "  </thead>\n",
       "  <tbody>\n",
       "    <tr>\n",
       "      <th>891</th>\n",
       "      <td>892</td>\n",
       "      <td>0</td>\n",
       "    </tr>\n",
       "    <tr>\n",
       "      <th>892</th>\n",
       "      <td>893</td>\n",
       "      <td>0</td>\n",
       "    </tr>\n",
       "    <tr>\n",
       "      <th>893</th>\n",
       "      <td>894</td>\n",
       "      <td>0</td>\n",
       "    </tr>\n",
       "    <tr>\n",
       "      <th>894</th>\n",
       "      <td>895</td>\n",
       "      <td>0</td>\n",
       "    </tr>\n",
       "    <tr>\n",
       "      <th>895</th>\n",
       "      <td>896</td>\n",
       "      <td>1</td>\n",
       "    </tr>\n",
       "    <tr>\n",
       "      <th>...</th>\n",
       "      <td>...</td>\n",
       "      <td>...</td>\n",
       "    </tr>\n",
       "    <tr>\n",
       "      <th>1304</th>\n",
       "      <td>1305</td>\n",
       "      <td>0</td>\n",
       "    </tr>\n",
       "    <tr>\n",
       "      <th>1305</th>\n",
       "      <td>1306</td>\n",
       "      <td>1</td>\n",
       "    </tr>\n",
       "    <tr>\n",
       "      <th>1306</th>\n",
       "      <td>1307</td>\n",
       "      <td>0</td>\n",
       "    </tr>\n",
       "    <tr>\n",
       "      <th>1307</th>\n",
       "      <td>1308</td>\n",
       "      <td>0</td>\n",
       "    </tr>\n",
       "    <tr>\n",
       "      <th>1308</th>\n",
       "      <td>1309</td>\n",
       "      <td>1</td>\n",
       "    </tr>\n",
       "  </tbody>\n",
       "</table>\n",
       "<p>418 rows × 2 columns</p>\n",
       "</div>"
      ],
      "text/plain": [
       "      PassengerId  Survived\n",
       "891           892         0\n",
       "892           893         0\n",
       "893           894         0\n",
       "894           895         0\n",
       "895           896         1\n",
       "...           ...       ...\n",
       "1304         1305         0\n",
       "1305         1306         1\n",
       "1306         1307         0\n",
       "1307         1308         0\n",
       "1308         1309         1\n",
       "\n",
       "[418 rows x 2 columns]"
      ]
     },
     "execution_count": 48,
     "metadata": {},
     "output_type": "execute_result"
    }
   ],
   "source": [
    "submission"
   ]
  },
  {
   "cell_type": "code",
   "execution_count": 49,
   "id": "5873ff25",
   "metadata": {
    "execution": {
     "iopub.execute_input": "2022-01-15T12:23:21.600425Z",
     "iopub.status.busy": "2022-01-15T12:23:21.599763Z",
     "iopub.status.idle": "2022-01-15T12:23:21.607060Z",
     "shell.execute_reply": "2022-01-15T12:23:21.607592Z",
     "shell.execute_reply.started": "2022-01-15T12:19:05.227508Z"
    },
    "papermill": {
     "duration": 0.086055,
     "end_time": "2022-01-15T12:23:21.607764",
     "exception": false,
     "start_time": "2022-01-15T12:23:21.521709",
     "status": "completed"
    },
    "tags": []
   },
   "outputs": [],
   "source": [
    "submission.to_csv('submission',index=False)"
   ]
  },
  {
   "cell_type": "code",
   "execution_count": null,
   "id": "2c54fca3",
   "metadata": {
    "papermill": {
     "duration": 0.075248,
     "end_time": "2022-01-15T12:23:21.759291",
     "exception": false,
     "start_time": "2022-01-15T12:23:21.684043",
     "status": "completed"
    },
    "tags": []
   },
   "outputs": [],
   "source": []
  }
 ],
 "metadata": {
  "kernelspec": {
   "display_name": "Python 3",
   "language": "python",
   "name": "python3"
  },
  "language_info": {
   "codemirror_mode": {
    "name": "ipython",
    "version": 3
   },
   "file_extension": ".py",
   "mimetype": "text/x-python",
   "name": "python",
   "nbconvert_exporter": "python",
   "pygments_lexer": "ipython3",
   "version": "3.7.12"
  },
  "papermill": {
   "default_parameters": {},
   "duration": 72.546283,
   "end_time": "2022-01-15T12:23:22.645685",
   "environment_variables": {},
   "exception": null,
   "input_path": "__notebook__.ipynb",
   "output_path": "__notebook__.ipynb",
   "parameters": {},
   "start_time": "2022-01-15T12:22:10.099402",
   "version": "2.3.3"
  }
 },
 "nbformat": 4,
 "nbformat_minor": 5
}
